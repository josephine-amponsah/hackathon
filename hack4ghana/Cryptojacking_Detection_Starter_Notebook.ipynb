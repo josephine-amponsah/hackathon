{
 "cells": [
  {
   "cell_type": "markdown",
   "metadata": {
    "id": "nZkVo_9OcfSI"
   },
   "source": [
    "<h2><center> Welcome to the Cryptojacking Detection Challenge Starter Notebook</h2></center>\n",
    "<figure>\n",
    "<center><img src =\"https://drive.google.com/uc?export=view&id=1afxycLZz1AovI0MjqEIiXyziEVWnUkNG\" width = \"750\" height = '500' alt=\"Cryptojacking Detection Challenge\"/>\n",
    "\n",
    "*About the problem*\n",
    "> Cryptojacking is a cyber-attack utilizing malicious scripts similar to those from large cryptocurrency houses to illegally mine data without users being aware. These attacks are stealthy and difficult to detect or analyze, often leading to decreased computing speeds for users as well as crashes due to straining of computational resources.\n",
    "\n",
    "\n",
    "*The objective of this challenge is*:\n",
    "> classify network activity from various websites as either cryptojacking or not based on features related to both network-based and host-based data.\n",
    "\n"
   ]
  },
  {
   "cell_type": "markdown",
   "metadata": {
    "id": "GlmJg6TQ0Thd"
   },
   "source": [
    "## Table of contents:\n",
    "\n",
    "1. [Importing Libraries](#Libraries)\n",
    "2. [Loading Data](#Data)\n",
    "3. [Statistical Summaries](#Statistics)\n",
    "4. [Missing Values and Duplicates](#Missing)\n",
    "5. [Target Distribution](#Engineering)\n",
    "6. [Modelling](#Modelling)"
   ]
  },
  {
   "cell_type": "markdown",
   "metadata": {
    "id": "I8Kdz7a25j4P"
   },
   "source": [
    "<a name=\"Libraries\"></a>\n",
    "## 1. Importing Libraries\n"
   ]
  },
  {
   "cell_type": "code",
   "execution_count": 1,
   "metadata": {
    "id": "2ojddGi7jVnG"
   },
   "outputs": [],
   "source": [
    "SEED = 1221\n",
    "# Import libraries\n",
    "import pandas as pd\n",
    "import numpy as np\n",
    "\n",
    "import seaborn as sns\n",
    "import matplotlib.pyplot as plt\n",
    "from sklearn.model_selection import train_test_split\n",
    "\n",
    "\n",
    "from sklearn.metrics import classification_report\n",
    "from sklearn.linear_model import LogisticRegression\n",
    "from sklearn.preprocessing import StandardScaler"
   ]
  },
  {
   "cell_type": "markdown",
   "metadata": {
    "id": "ro-KRpqn5pbB"
   },
   "source": [
    "<a name=\"Data\"></a>\n",
    "## 2. Loading Data"
   ]
  },
  {
   "cell_type": "code",
   "execution_count": 2,
   "metadata": {
    "colab": {
     "base_uri": "https://localhost:8080/",
     "height": 285
    },
    "executionInfo": {
     "elapsed": 1932,
     "status": "ok",
     "timestamp": 1677147628949,
     "user": {
      "displayName": "Nelson Mganga",
      "userId": "15984282569117459010"
     },
     "user_tz": -180
    },
    "id": "uVVX5VLXRuKL",
    "outputId": "8d18c4ac-8b20-490e-d330-063e4dc13cb1"
   },
   "outputs": [
    {
     "data": {
      "text/html": [
       "<div>\n",
       "<style scoped>\n",
       "    .dataframe tbody tr th:only-of-type {\n",
       "        vertical-align: middle;\n",
       "    }\n",
       "\n",
       "    .dataframe tbody tr th {\n",
       "        vertical-align: top;\n",
       "    }\n",
       "\n",
       "    .dataframe thead th {\n",
       "        text-align: right;\n",
       "    }\n",
       "</style>\n",
       "<table border=\"1\" class=\"dataframe\">\n",
       "  <thead>\n",
       "    <tr style=\"text-align: right;\">\n",
       "      <th></th>\n",
       "      <th>ID</th>\n",
       "      <th>I/O Data Operations</th>\n",
       "      <th>I/O Data Bytes</th>\n",
       "      <th>Number of subprocesses</th>\n",
       "      <th>Time on processor</th>\n",
       "      <th>Disk Reading/sec</th>\n",
       "      <th>Disc Writing/sec</th>\n",
       "      <th>Bytes Sent/sent</th>\n",
       "      <th>Received Bytes (HTTP)</th>\n",
       "      <th>Network packets sent</th>\n",
       "      <th>Network packets received</th>\n",
       "      <th>Pages Read/sec</th>\n",
       "      <th>Pages Input/sec</th>\n",
       "      <th>Page Errors/sec</th>\n",
       "      <th>Confirmed byte radius</th>\n",
       "      <th>Label</th>\n",
       "    </tr>\n",
       "  </thead>\n",
       "  <tbody>\n",
       "    <tr>\n",
       "      <th>0</th>\n",
       "      <td>ID_4W8AP96UO6</td>\n",
       "      <td>114.798900</td>\n",
       "      <td>3790.450939</td>\n",
       "      <td>28.0</td>\n",
       "      <td>0.427078</td>\n",
       "      <td>6.162365</td>\n",
       "      <td>21.220403</td>\n",
       "      <td>58.492773</td>\n",
       "      <td>63.959387</td>\n",
       "      <td>0.621206</td>\n",
       "      <td>0.521813</td>\n",
       "      <td>24.624612</td>\n",
       "      <td>0.0</td>\n",
       "      <td>1001.533430</td>\n",
       "      <td>27.190843</td>\n",
       "      <td>1</td>\n",
       "    </tr>\n",
       "    <tr>\n",
       "      <th>1</th>\n",
       "      <td>ID_UD3TM0ZYND</td>\n",
       "      <td>14.154240</td>\n",
       "      <td>5182.451722</td>\n",
       "      <td>28.0</td>\n",
       "      <td>0.138876</td>\n",
       "      <td>5.399498</td>\n",
       "      <td>0.000000</td>\n",
       "      <td>22.886762</td>\n",
       "      <td>29.508369</td>\n",
       "      <td>0.422183</td>\n",
       "      <td>0.444403</td>\n",
       "      <td>0.044440</td>\n",
       "      <td>0.0</td>\n",
       "      <td>1089.121009</td>\n",
       "      <td>30.150941</td>\n",
       "      <td>0</td>\n",
       "    </tr>\n",
       "    <tr>\n",
       "      <th>2</th>\n",
       "      <td>ID_XAG1HC0HWM</td>\n",
       "      <td>0.044444</td>\n",
       "      <td>120.821253</td>\n",
       "      <td>28.0</td>\n",
       "      <td>0.000000</td>\n",
       "      <td>1.577765</td>\n",
       "      <td>0.000000</td>\n",
       "      <td>11.733239</td>\n",
       "      <td>12.888786</td>\n",
       "      <td>0.177776</td>\n",
       "      <td>0.155554</td>\n",
       "      <td>0.044444</td>\n",
       "      <td>0.0</td>\n",
       "      <td>322.464081</td>\n",
       "      <td>28.163287</td>\n",
       "      <td>0</td>\n",
       "    </tr>\n",
       "    <tr>\n",
       "      <th>3</th>\n",
       "      <td>ID_CEXD05IR09</td>\n",
       "      <td>31.369916</td>\n",
       "      <td>127228.251100</td>\n",
       "      <td>31.0</td>\n",
       "      <td>0.523750</td>\n",
       "      <td>15.981107</td>\n",
       "      <td>5.356671</td>\n",
       "      <td>602.125436</td>\n",
       "      <td>6976.986795</td>\n",
       "      <td>3.311801</td>\n",
       "      <td>5.756755</td>\n",
       "      <td>5.623394</td>\n",
       "      <td>0.0</td>\n",
       "      <td>12015.169690</td>\n",
       "      <td>34.204404</td>\n",
       "      <td>0</td>\n",
       "    </tr>\n",
       "    <tr>\n",
       "      <th>4</th>\n",
       "      <td>ID_X6E97FT8IF</td>\n",
       "      <td>5.046181</td>\n",
       "      <td>1091.620117</td>\n",
       "      <td>25.0</td>\n",
       "      <td>0.069468</td>\n",
       "      <td>1.356022</td>\n",
       "      <td>0.000000</td>\n",
       "      <td>16.138887</td>\n",
       "      <td>13.271234</td>\n",
       "      <td>0.155609</td>\n",
       "      <td>0.133379</td>\n",
       "      <td>0.000000</td>\n",
       "      <td>0.0</td>\n",
       "      <td>550.989619</td>\n",
       "      <td>31.466889</td>\n",
       "      <td>1</td>\n",
       "    </tr>\n",
       "  </tbody>\n",
       "</table>\n",
       "</div>"
      ],
      "text/plain": [
       "              ID  I/O Data Operations   I/O Data Bytes   \n",
       "0  ID_4W8AP96UO6           114.798900      3790.450939  \\\n",
       "1  ID_UD3TM0ZYND            14.154240      5182.451722   \n",
       "2  ID_XAG1HC0HWM             0.044444       120.821253   \n",
       "3  ID_CEXD05IR09            31.369916    127228.251100   \n",
       "4  ID_X6E97FT8IF             5.046181      1091.620117   \n",
       "\n",
       "   Number of subprocesses  Time on processor  Disk Reading/sec   \n",
       "0                    28.0           0.427078          6.162365  \\\n",
       "1                    28.0           0.138876          5.399498   \n",
       "2                    28.0           0.000000          1.577765   \n",
       "3                    31.0           0.523750         15.981107   \n",
       "4                    25.0           0.069468          1.356022   \n",
       "\n",
       "   Disc Writing/sec  Bytes Sent/sent  Received Bytes (HTTP)   \n",
       "0         21.220403        58.492773              63.959387  \\\n",
       "1          0.000000        22.886762              29.508369   \n",
       "2          0.000000        11.733239              12.888786   \n",
       "3          5.356671       602.125436            6976.986795   \n",
       "4          0.000000        16.138887              13.271234   \n",
       "\n",
       "   Network packets sent  Network packets received  Pages Read/sec   \n",
       "0              0.621206                  0.521813       24.624612  \\\n",
       "1              0.422183                  0.444403        0.044440   \n",
       "2              0.177776                  0.155554        0.044444   \n",
       "3              3.311801                  5.756755        5.623394   \n",
       "4              0.155609                  0.133379        0.000000   \n",
       "\n",
       "   Pages Input/sec  Page Errors/sec  Confirmed byte radius  Label  \n",
       "0              0.0      1001.533430              27.190843      1  \n",
       "1              0.0      1089.121009              30.150941      0  \n",
       "2              0.0       322.464081              28.163287      0  \n",
       "3              0.0     12015.169690              34.204404      0  \n",
       "4              0.0       550.989619              31.466889      1  "
      ]
     },
     "execution_count": 2,
     "metadata": {},
     "output_type": "execute_result"
    }
   ],
   "source": [
    "# Load files\n",
    "train = pd.read_csv('Train.csv')\n",
    "test = pd.read_csv('Test.csv')\n",
    "samplesubmission = pd.read_csv('SampleSubmission.csv')\n",
    "\n",
    "# Preview train dataset\n",
    "train.head()"
   ]
  },
  {
   "cell_type": "code",
   "execution_count": 3,
   "metadata": {
    "colab": {
     "base_uri": "https://localhost:8080/",
     "height": 268
    },
    "executionInfo": {
     "elapsed": 755,
     "status": "ok",
     "timestamp": 1677147632116,
     "user": {
      "displayName": "Nelson Mganga",
      "userId": "15984282569117459010"
     },
     "user_tz": -180
    },
    "id": "J3Nzm28bh-rR",
    "outputId": "73049029-a3f4-4ccf-955d-fbb53b5cb08c"
   },
   "outputs": [
    {
     "data": {
      "text/html": [
       "<div>\n",
       "<style scoped>\n",
       "    .dataframe tbody tr th:only-of-type {\n",
       "        vertical-align: middle;\n",
       "    }\n",
       "\n",
       "    .dataframe tbody tr th {\n",
       "        vertical-align: top;\n",
       "    }\n",
       "\n",
       "    .dataframe thead th {\n",
       "        text-align: right;\n",
       "    }\n",
       "</style>\n",
       "<table border=\"1\" class=\"dataframe\">\n",
       "  <thead>\n",
       "    <tr style=\"text-align: right;\">\n",
       "      <th></th>\n",
       "      <th>ID</th>\n",
       "      <th>I/O Data Operations</th>\n",
       "      <th>I/O Data Bytes</th>\n",
       "      <th>Number of subprocesses</th>\n",
       "      <th>Time on processor</th>\n",
       "      <th>Disk Reading/sec</th>\n",
       "      <th>Disc Writing/sec</th>\n",
       "      <th>Bytes Sent/sent</th>\n",
       "      <th>Received Bytes (HTTP)</th>\n",
       "      <th>Network packets sent</th>\n",
       "      <th>Network packets received</th>\n",
       "      <th>Pages Read/sec</th>\n",
       "      <th>Pages Input/sec</th>\n",
       "      <th>Page Errors/sec</th>\n",
       "      <th>Confirmed byte radius</th>\n",
       "    </tr>\n",
       "  </thead>\n",
       "  <tbody>\n",
       "    <tr>\n",
       "      <th>0</th>\n",
       "      <td>ID_L7RNFK5JC9</td>\n",
       "      <td>32.709430</td>\n",
       "      <td>121124.141400</td>\n",
       "      <td>30.407359</td>\n",
       "      <td>0.496719</td>\n",
       "      <td>3.999064</td>\n",
       "      <td>0.000000</td>\n",
       "      <td>335.565884</td>\n",
       "      <td>737.338490</td>\n",
       "      <td>1.844013</td>\n",
       "      <td>1.910664</td>\n",
       "      <td>0.311038</td>\n",
       "      <td>0.0</td>\n",
       "      <td>726.318848</td>\n",
       "      <td>20.008686</td>\n",
       "    </tr>\n",
       "    <tr>\n",
       "      <th>1</th>\n",
       "      <td>ID_KUTY5K1G5F</td>\n",
       "      <td>2.065990</td>\n",
       "      <td>2029.713475</td>\n",
       "      <td>29.000000</td>\n",
       "      <td>0.000000</td>\n",
       "      <td>3.665467</td>\n",
       "      <td>0.000000</td>\n",
       "      <td>63.845771</td>\n",
       "      <td>41.119875</td>\n",
       "      <td>0.733093</td>\n",
       "      <td>0.577589</td>\n",
       "      <td>0.044430</td>\n",
       "      <td>0.0</td>\n",
       "      <td>385.473839</td>\n",
       "      <td>33.015399</td>\n",
       "    </tr>\n",
       "    <tr>\n",
       "      <th>2</th>\n",
       "      <td>ID_H6PJWKU831</td>\n",
       "      <td>114.524684</td>\n",
       "      <td>3888.550764</td>\n",
       "      <td>28.000000</td>\n",
       "      <td>0.486075</td>\n",
       "      <td>0.777719</td>\n",
       "      <td>0.199985</td>\n",
       "      <td>11.354698</td>\n",
       "      <td>11.332477</td>\n",
       "      <td>0.177764</td>\n",
       "      <td>0.133323</td>\n",
       "      <td>0.000000</td>\n",
       "      <td>0.0</td>\n",
       "      <td>504.828540</td>\n",
       "      <td>30.091141</td>\n",
       "    </tr>\n",
       "    <tr>\n",
       "      <th>3</th>\n",
       "      <td>ID_DNQXNVTXHE</td>\n",
       "      <td>27.036810</td>\n",
       "      <td>5581.324782</td>\n",
       "      <td>25.000000</td>\n",
       "      <td>0.314968</td>\n",
       "      <td>1.789015</td>\n",
       "      <td>0.000000</td>\n",
       "      <td>44.297028</td>\n",
       "      <td>13.430214</td>\n",
       "      <td>0.302369</td>\n",
       "      <td>0.125987</td>\n",
       "      <td>0.000000</td>\n",
       "      <td>0.0</td>\n",
       "      <td>465.950312</td>\n",
       "      <td>22.211252</td>\n",
       "    </tr>\n",
       "    <tr>\n",
       "      <th>4</th>\n",
       "      <td>ID_8CRTF1BJOD</td>\n",
       "      <td>1.177267</td>\n",
       "      <td>176.634467</td>\n",
       "      <td>28.000000</td>\n",
       "      <td>0.000000</td>\n",
       "      <td>1.710369</td>\n",
       "      <td>0.000000</td>\n",
       "      <td>88.161746</td>\n",
       "      <td>57.508380</td>\n",
       "      <td>0.888503</td>\n",
       "      <td>0.777440</td>\n",
       "      <td>0.000000</td>\n",
       "      <td>0.0</td>\n",
       "      <td>771.665166</td>\n",
       "      <td>31.032570</td>\n",
       "    </tr>\n",
       "  </tbody>\n",
       "</table>\n",
       "</div>"
      ],
      "text/plain": [
       "              ID  I/O Data Operations   I/O Data Bytes   \n",
       "0  ID_L7RNFK5JC9            32.709430    121124.141400  \\\n",
       "1  ID_KUTY5K1G5F             2.065990      2029.713475   \n",
       "2  ID_H6PJWKU831           114.524684      3888.550764   \n",
       "3  ID_DNQXNVTXHE            27.036810      5581.324782   \n",
       "4  ID_8CRTF1BJOD             1.177267       176.634467   \n",
       "\n",
       "   Number of subprocesses  Time on processor  Disk Reading/sec   \n",
       "0               30.407359           0.496719          3.999064  \\\n",
       "1               29.000000           0.000000          3.665467   \n",
       "2               28.000000           0.486075          0.777719   \n",
       "3               25.000000           0.314968          1.789015   \n",
       "4               28.000000           0.000000          1.710369   \n",
       "\n",
       "   Disc Writing/sec  Bytes Sent/sent  Received Bytes (HTTP)   \n",
       "0          0.000000       335.565884             737.338490  \\\n",
       "1          0.000000        63.845771              41.119875   \n",
       "2          0.199985        11.354698              11.332477   \n",
       "3          0.000000        44.297028              13.430214   \n",
       "4          0.000000        88.161746              57.508380   \n",
       "\n",
       "   Network packets sent  Network packets received  Pages Read/sec   \n",
       "0              1.844013                  1.910664        0.311038  \\\n",
       "1              0.733093                  0.577589        0.044430   \n",
       "2              0.177764                  0.133323        0.000000   \n",
       "3              0.302369                  0.125987        0.000000   \n",
       "4              0.888503                  0.777440        0.000000   \n",
       "\n",
       "   Pages Input/sec  Page Errors/sec  Confirmed byte radius  \n",
       "0              0.0       726.318848              20.008686  \n",
       "1              0.0       385.473839              33.015399  \n",
       "2              0.0       504.828540              30.091141  \n",
       "3              0.0       465.950312              22.211252  \n",
       "4              0.0       771.665166              31.032570  "
      ]
     },
     "execution_count": 3,
     "metadata": {},
     "output_type": "execute_result"
    }
   ],
   "source": [
    "# Preview test dataset\n",
    "test.head()"
   ]
  },
  {
   "cell_type": "code",
   "execution_count": 4,
   "metadata": {
    "colab": {
     "base_uri": "https://localhost:8080/",
     "height": 206
    },
    "executionInfo": {
     "elapsed": 5,
     "status": "ok",
     "timestamp": 1677147632117,
     "user": {
      "displayName": "Nelson Mganga",
      "userId": "15984282569117459010"
     },
     "user_tz": -180
    },
    "id": "aHFvG2LSipon",
    "outputId": "7c8a4946-b5e6-4983-db19-42ddc39017e5"
   },
   "outputs": [
    {
     "data": {
      "text/html": [
       "<div>\n",
       "<style scoped>\n",
       "    .dataframe tbody tr th:only-of-type {\n",
       "        vertical-align: middle;\n",
       "    }\n",
       "\n",
       "    .dataframe tbody tr th {\n",
       "        vertical-align: top;\n",
       "    }\n",
       "\n",
       "    .dataframe thead th {\n",
       "        text-align: right;\n",
       "    }\n",
       "</style>\n",
       "<table border=\"1\" class=\"dataframe\">\n",
       "  <thead>\n",
       "    <tr style=\"text-align: right;\">\n",
       "      <th></th>\n",
       "      <th>ID</th>\n",
       "      <th>Target</th>\n",
       "    </tr>\n",
       "  </thead>\n",
       "  <tbody>\n",
       "    <tr>\n",
       "      <th>0</th>\n",
       "      <td>ID_L7RNFK5JC9</td>\n",
       "      <td>0</td>\n",
       "    </tr>\n",
       "    <tr>\n",
       "      <th>1</th>\n",
       "      <td>ID_KUTY5K1G5F</td>\n",
       "      <td>0</td>\n",
       "    </tr>\n",
       "    <tr>\n",
       "      <th>2</th>\n",
       "      <td>ID_H6PJWKU831</td>\n",
       "      <td>0</td>\n",
       "    </tr>\n",
       "    <tr>\n",
       "      <th>3</th>\n",
       "      <td>ID_DNQXNVTXHE</td>\n",
       "      <td>0</td>\n",
       "    </tr>\n",
       "    <tr>\n",
       "      <th>4</th>\n",
       "      <td>ID_8CRTF1BJOD</td>\n",
       "      <td>0</td>\n",
       "    </tr>\n",
       "  </tbody>\n",
       "</table>\n",
       "</div>"
      ],
      "text/plain": [
       "              ID  Target\n",
       "0  ID_L7RNFK5JC9       0\n",
       "1  ID_KUTY5K1G5F       0\n",
       "2  ID_H6PJWKU831       0\n",
       "3  ID_DNQXNVTXHE       0\n",
       "4  ID_8CRTF1BJOD       0"
      ]
     },
     "execution_count": 4,
     "metadata": {},
     "output_type": "execute_result"
    }
   ],
   "source": [
    "# Preview sample submission file\n",
    "samplesubmission.head()"
   ]
  },
  {
   "cell_type": "code",
   "execution_count": 5,
   "metadata": {
    "colab": {
     "base_uri": "https://localhost:8080/"
    },
    "executionInfo": {
     "elapsed": 3,
     "status": "ok",
     "timestamp": 1677147634272,
     "user": {
      "displayName": "Nelson Mganga",
      "userId": "15984282569117459010"
     },
     "user_tz": -180
    },
    "id": "MIYhvh4rirUn",
    "outputId": "8425b455-e6af-44d8-c03e-28fab03f1735"
   },
   "outputs": [
    {
     "data": {
      "text/plain": [
       "((8908, 16), (3818, 15), (3818, 2))"
      ]
     },
     "execution_count": 5,
     "metadata": {},
     "output_type": "execute_result"
    }
   ],
   "source": [
    "# Check size and shape of datasets\n",
    "train.shape, test.shape, samplesubmission.shape"
   ]
  },
  {
   "cell_type": "markdown",
   "metadata": {
    "id": "KNtwMcKjZk9x"
   },
   "source": [
    "<a name=\"Statistics\"></a>\n",
    "## 3. Statistical Summaries"
   ]
  },
  {
   "cell_type": "code",
   "execution_count": 6,
   "metadata": {
    "colab": {
     "base_uri": "https://localhost:8080/",
     "height": 473
    },
    "executionInfo": {
     "elapsed": 1457,
     "status": "ok",
     "timestamp": 1677147635727,
     "user": {
      "displayName": "Nelson Mganga",
      "userId": "15984282569117459010"
     },
     "user_tz": -180
    },
    "id": "WuCX_FV3it_B",
    "outputId": "353ce822-1eda-4041-95f9-cfbfc31829e2"
   },
   "outputs": [
    {
     "data": {
      "text/html": [
       "<div>\n",
       "<style scoped>\n",
       "    .dataframe tbody tr th:only-of-type {\n",
       "        vertical-align: middle;\n",
       "    }\n",
       "\n",
       "    .dataframe tbody tr th {\n",
       "        vertical-align: top;\n",
       "    }\n",
       "\n",
       "    .dataframe thead th {\n",
       "        text-align: right;\n",
       "    }\n",
       "</style>\n",
       "<table border=\"1\" class=\"dataframe\">\n",
       "  <thead>\n",
       "    <tr style=\"text-align: right;\">\n",
       "      <th></th>\n",
       "      <th>ID</th>\n",
       "      <th>I/O Data Operations</th>\n",
       "      <th>I/O Data Bytes</th>\n",
       "      <th>Number of subprocesses</th>\n",
       "      <th>Time on processor</th>\n",
       "      <th>Disk Reading/sec</th>\n",
       "      <th>Disc Writing/sec</th>\n",
       "      <th>Bytes Sent/sent</th>\n",
       "      <th>Received Bytes (HTTP)</th>\n",
       "      <th>Network packets sent</th>\n",
       "      <th>Network packets received</th>\n",
       "      <th>Pages Read/sec</th>\n",
       "      <th>Pages Input/sec</th>\n",
       "      <th>Page Errors/sec</th>\n",
       "      <th>Confirmed byte radius</th>\n",
       "      <th>Label</th>\n",
       "    </tr>\n",
       "  </thead>\n",
       "  <tbody>\n",
       "    <tr>\n",
       "      <th>count</th>\n",
       "      <td>8908</td>\n",
       "      <td>8908.000000</td>\n",
       "      <td>8.908000e+03</td>\n",
       "      <td>8908.000000</td>\n",
       "      <td>8908.000000</td>\n",
       "      <td>8908.000000</td>\n",
       "      <td>8908.000000</td>\n",
       "      <td>8908.000000</td>\n",
       "      <td>8.908000e+03</td>\n",
       "      <td>8908.000000</td>\n",
       "      <td>8908.000000</td>\n",
       "      <td>8908.000000</td>\n",
       "      <td>8908.000000</td>\n",
       "      <td>8908.000000</td>\n",
       "      <td>8908.000000</td>\n",
       "      <td>8908.000000</td>\n",
       "    </tr>\n",
       "    <tr>\n",
       "      <th>unique</th>\n",
       "      <td>8908</td>\n",
       "      <td>NaN</td>\n",
       "      <td>NaN</td>\n",
       "      <td>NaN</td>\n",
       "      <td>NaN</td>\n",
       "      <td>NaN</td>\n",
       "      <td>NaN</td>\n",
       "      <td>NaN</td>\n",
       "      <td>NaN</td>\n",
       "      <td>NaN</td>\n",
       "      <td>NaN</td>\n",
       "      <td>NaN</td>\n",
       "      <td>NaN</td>\n",
       "      <td>NaN</td>\n",
       "      <td>NaN</td>\n",
       "      <td>NaN</td>\n",
       "    </tr>\n",
       "    <tr>\n",
       "      <th>top</th>\n",
       "      <td>ID_4W8AP96UO6</td>\n",
       "      <td>NaN</td>\n",
       "      <td>NaN</td>\n",
       "      <td>NaN</td>\n",
       "      <td>NaN</td>\n",
       "      <td>NaN</td>\n",
       "      <td>NaN</td>\n",
       "      <td>NaN</td>\n",
       "      <td>NaN</td>\n",
       "      <td>NaN</td>\n",
       "      <td>NaN</td>\n",
       "      <td>NaN</td>\n",
       "      <td>NaN</td>\n",
       "      <td>NaN</td>\n",
       "      <td>NaN</td>\n",
       "      <td>NaN</td>\n",
       "    </tr>\n",
       "    <tr>\n",
       "      <th>freq</th>\n",
       "      <td>1</td>\n",
       "      <td>NaN</td>\n",
       "      <td>NaN</td>\n",
       "      <td>NaN</td>\n",
       "      <td>NaN</td>\n",
       "      <td>NaN</td>\n",
       "      <td>NaN</td>\n",
       "      <td>NaN</td>\n",
       "      <td>NaN</td>\n",
       "      <td>NaN</td>\n",
       "      <td>NaN</td>\n",
       "      <td>NaN</td>\n",
       "      <td>NaN</td>\n",
       "      <td>NaN</td>\n",
       "      <td>NaN</td>\n",
       "      <td>NaN</td>\n",
       "    </tr>\n",
       "    <tr>\n",
       "      <th>mean</th>\n",
       "      <td>NaN</td>\n",
       "      <td>36.429205</td>\n",
       "      <td>1.135564e+05</td>\n",
       "      <td>29.811900</td>\n",
       "      <td>0.496405</td>\n",
       "      <td>5.353260</td>\n",
       "      <td>1.046153</td>\n",
       "      <td>559.546628</td>\n",
       "      <td>1.655804e+04</td>\n",
       "      <td>4.795485</td>\n",
       "      <td>12.625792</td>\n",
       "      <td>0.988036</td>\n",
       "      <td>0.004177</td>\n",
       "      <td>2779.178084</td>\n",
       "      <td>28.436192</td>\n",
       "      <td>0.269870</td>\n",
       "    </tr>\n",
       "    <tr>\n",
       "      <th>std</th>\n",
       "      <td>NaN</td>\n",
       "      <td>75.884647</td>\n",
       "      <td>4.896846e+05</td>\n",
       "      <td>5.691411</td>\n",
       "      <td>1.593626</td>\n",
       "      <td>19.286690</td>\n",
       "      <td>15.667814</td>\n",
       "      <td>1939.745234</td>\n",
       "      <td>9.042803e+04</td>\n",
       "      <td>20.797585</td>\n",
       "      <td>61.246541</td>\n",
       "      <td>12.495768</td>\n",
       "      <td>0.082923</td>\n",
       "      <td>4996.003166</td>\n",
       "      <td>3.970140</td>\n",
       "      <td>0.443917</td>\n",
       "    </tr>\n",
       "    <tr>\n",
       "      <th>min</th>\n",
       "      <td>NaN</td>\n",
       "      <td>0.000000</td>\n",
       "      <td>0.000000e+00</td>\n",
       "      <td>1.000000</td>\n",
       "      <td>0.000000</td>\n",
       "      <td>0.044459</td>\n",
       "      <td>0.000000</td>\n",
       "      <td>1.197890</td>\n",
       "      <td>1.554938e+00</td>\n",
       "      <td>0.022183</td>\n",
       "      <td>0.022183</td>\n",
       "      <td>0.000000</td>\n",
       "      <td>0.000000</td>\n",
       "      <td>16.143987</td>\n",
       "      <td>18.057942</td>\n",
       "      <td>0.000000</td>\n",
       "    </tr>\n",
       "    <tr>\n",
       "      <th>25%</th>\n",
       "      <td>NaN</td>\n",
       "      <td>1.394404</td>\n",
       "      <td>8.136318e+02</td>\n",
       "      <td>27.000000</td>\n",
       "      <td>0.000000</td>\n",
       "      <td>0.755629</td>\n",
       "      <td>0.000000</td>\n",
       "      <td>33.843800</td>\n",
       "      <td>2.737770e+01</td>\n",
       "      <td>0.399999</td>\n",
       "      <td>0.333225</td>\n",
       "      <td>0.000000</td>\n",
       "      <td>0.000000</td>\n",
       "      <td>351.620535</td>\n",
       "      <td>25.266134</td>\n",
       "      <td>0.000000</td>\n",
       "    </tr>\n",
       "    <tr>\n",
       "      <th>50%</th>\n",
       "      <td>NaN</td>\n",
       "      <td>11.613803</td>\n",
       "      <td>4.930482e+03</td>\n",
       "      <td>28.000000</td>\n",
       "      <td>0.034734</td>\n",
       "      <td>1.711077</td>\n",
       "      <td>0.000000</td>\n",
       "      <td>67.366295</td>\n",
       "      <td>8.905770e+01</td>\n",
       "      <td>0.710898</td>\n",
       "      <td>0.635705</td>\n",
       "      <td>0.022222</td>\n",
       "      <td>0.000000</td>\n",
       "      <td>682.943866</td>\n",
       "      <td>28.543826</td>\n",
       "      <td>0.000000</td>\n",
       "    </tr>\n",
       "    <tr>\n",
       "      <th>75%</th>\n",
       "      <td>NaN</td>\n",
       "      <td>34.494953</td>\n",
       "      <td>3.940357e+04</td>\n",
       "      <td>30.000000</td>\n",
       "      <td>0.451350</td>\n",
       "      <td>5.845619</td>\n",
       "      <td>0.022229</td>\n",
       "      <td>221.314810</td>\n",
       "      <td>5.613814e+02</td>\n",
       "      <td>1.555063</td>\n",
       "      <td>1.711155</td>\n",
       "      <td>0.088887</td>\n",
       "      <td>0.000000</td>\n",
       "      <td>1356.673217</td>\n",
       "      <td>30.969542</td>\n",
       "      <td>1.000000</td>\n",
       "    </tr>\n",
       "    <tr>\n",
       "      <th>max</th>\n",
       "      <td>NaN</td>\n",
       "      <td>1795.316255</td>\n",
       "      <td>4.677280e+06</td>\n",
       "      <td>51.000000</td>\n",
       "      <td>25.246148</td>\n",
       "      <td>1064.819285</td>\n",
       "      <td>831.503948</td>\n",
       "      <td>98097.784300</td>\n",
       "      <td>4.812144e+06</td>\n",
       "      <td>1118.878021</td>\n",
       "      <td>3183.701036</td>\n",
       "      <td>475.031124</td>\n",
       "      <td>2.955622</td>\n",
       "      <td>98031.408630</td>\n",
       "      <td>46.784800</td>\n",
       "      <td>1.000000</td>\n",
       "    </tr>\n",
       "  </tbody>\n",
       "</table>\n",
       "</div>"
      ],
      "text/plain": [
       "                   ID  I/O Data Operations   I/O Data Bytes   \n",
       "count            8908          8908.000000     8.908000e+03  \\\n",
       "unique           8908                  NaN              NaN   \n",
       "top     ID_4W8AP96UO6                  NaN              NaN   \n",
       "freq                1                  NaN              NaN   \n",
       "mean              NaN            36.429205     1.135564e+05   \n",
       "std               NaN            75.884647     4.896846e+05   \n",
       "min               NaN             0.000000     0.000000e+00   \n",
       "25%               NaN             1.394404     8.136318e+02   \n",
       "50%               NaN            11.613803     4.930482e+03   \n",
       "75%               NaN            34.494953     3.940357e+04   \n",
       "max               NaN          1795.316255     4.677280e+06   \n",
       "\n",
       "        Number of subprocesses  Time on processor  Disk Reading/sec   \n",
       "count              8908.000000        8908.000000       8908.000000  \\\n",
       "unique                     NaN                NaN               NaN   \n",
       "top                        NaN                NaN               NaN   \n",
       "freq                       NaN                NaN               NaN   \n",
       "mean                 29.811900           0.496405          5.353260   \n",
       "std                   5.691411           1.593626         19.286690   \n",
       "min                   1.000000           0.000000          0.044459   \n",
       "25%                  27.000000           0.000000          0.755629   \n",
       "50%                  28.000000           0.034734          1.711077   \n",
       "75%                  30.000000           0.451350          5.845619   \n",
       "max                  51.000000          25.246148       1064.819285   \n",
       "\n",
       "        Disc Writing/sec  Bytes Sent/sent  Received Bytes (HTTP)   \n",
       "count        8908.000000      8908.000000           8.908000e+03  \\\n",
       "unique               NaN              NaN                    NaN   \n",
       "top                  NaN              NaN                    NaN   \n",
       "freq                 NaN              NaN                    NaN   \n",
       "mean            1.046153       559.546628           1.655804e+04   \n",
       "std            15.667814      1939.745234           9.042803e+04   \n",
       "min             0.000000         1.197890           1.554938e+00   \n",
       "25%             0.000000        33.843800           2.737770e+01   \n",
       "50%             0.000000        67.366295           8.905770e+01   \n",
       "75%             0.022229       221.314810           5.613814e+02   \n",
       "max           831.503948     98097.784300           4.812144e+06   \n",
       "\n",
       "        Network packets sent  Network packets received  Pages Read/sec   \n",
       "count            8908.000000               8908.000000     8908.000000  \\\n",
       "unique                   NaN                       NaN             NaN   \n",
       "top                      NaN                       NaN             NaN   \n",
       "freq                     NaN                       NaN             NaN   \n",
       "mean                4.795485                 12.625792        0.988036   \n",
       "std                20.797585                 61.246541       12.495768   \n",
       "min                 0.022183                  0.022183        0.000000   \n",
       "25%                 0.399999                  0.333225        0.000000   \n",
       "50%                 0.710898                  0.635705        0.022222   \n",
       "75%                 1.555063                  1.711155        0.088887   \n",
       "max              1118.878021               3183.701036      475.031124   \n",
       "\n",
       "        Pages Input/sec  Page Errors/sec  Confirmed byte radius        Label  \n",
       "count       8908.000000      8908.000000            8908.000000  8908.000000  \n",
       "unique              NaN              NaN                    NaN          NaN  \n",
       "top                 NaN              NaN                    NaN          NaN  \n",
       "freq                NaN              NaN                    NaN          NaN  \n",
       "mean           0.004177      2779.178084              28.436192     0.269870  \n",
       "std            0.082923      4996.003166               3.970140     0.443917  \n",
       "min            0.000000        16.143987              18.057942     0.000000  \n",
       "25%            0.000000       351.620535              25.266134     0.000000  \n",
       "50%            0.000000       682.943866              28.543826     0.000000  \n",
       "75%            0.000000      1356.673217              30.969542     1.000000  \n",
       "max            2.955622     98031.408630              46.784800     1.000000  "
      ]
     },
     "execution_count": 6,
     "metadata": {},
     "output_type": "execute_result"
    }
   ],
   "source": [
    "# Train statistical summary\n",
    "train.describe(include = 'all')"
   ]
  },
  {
   "cell_type": "markdown",
   "metadata": {
    "id": "bJNhVNKn5uEE"
   },
   "source": [
    "<a name=\"Missing\"></a>\n",
    "## 4. Missing Values and Duplicates"
   ]
  },
  {
   "cell_type": "code",
   "execution_count": 7,
   "metadata": {
    "colab": {
     "base_uri": "https://localhost:8080/"
    },
    "executionInfo": {
     "elapsed": 3,
     "status": "ok",
     "timestamp": 1677147636422,
     "user": {
      "displayName": "Nelson Mganga",
      "userId": "15984282569117459010"
     },
     "user_tz": -180
    },
    "id": "FAV9X8wxixLs",
    "outputId": "7b9ef45b-25bf-4d1f-e225-f811d2123089"
   },
   "outputs": [
    {
     "data": {
      "text/plain": [
       "(False, False)"
      ]
     },
     "execution_count": 7,
     "metadata": {},
     "output_type": "execute_result"
    }
   ],
   "source": [
    "# Check for missing values\n",
    "train.isnull().sum().any(), test.isnull().sum().any()"
   ]
  },
  {
   "cell_type": "code",
   "execution_count": 8,
   "metadata": {
    "colab": {
     "base_uri": "https://localhost:8080/"
    },
    "executionInfo": {
     "elapsed": 2,
     "status": "ok",
     "timestamp": 1677147638485,
     "user": {
      "displayName": "Nelson Mganga",
      "userId": "15984282569117459010"
     },
     "user_tz": -180
    },
    "id": "O9x0apTajE1C",
    "outputId": "7e2ae7e0-f7b9-4bf9-bf80-725849657210"
   },
   "outputs": [
    {
     "data": {
      "text/plain": [
       "(False, False)"
      ]
     },
     "execution_count": 8,
     "metadata": {},
     "output_type": "execute_result"
    }
   ],
   "source": [
    "# Check for duplicates\n",
    "train.duplicated().any(), test.duplicated().any()"
   ]
  },
  {
   "cell_type": "markdown",
   "metadata": {
    "id": "PmGlVTOPjHKj"
   },
   "source": [
    "There are no missing values or duplicates"
   ]
  },
  {
   "cell_type": "markdown",
   "metadata": {
    "id": "6VmqiddbckaX"
   },
   "source": [
    "<a name=\"Class Distribution\"></a>\n",
    "## 5. Target Distribution"
   ]
  },
  {
   "cell_type": "code",
   "execution_count": 9,
   "metadata": {
    "colab": {
     "base_uri": "https://localhost:8080/",
     "height": 404
    },
    "executionInfo": {
     "elapsed": 3,
     "status": "ok",
     "timestamp": 1677147640988,
     "user": {
      "displayName": "Nelson Mganga",
      "userId": "15984282569117459010"
     },
     "user_tz": -180
    },
    "id": "m1jjFtDDjL8w",
    "outputId": "bc2d6321-ba49-48b6-a216-94065e408043"
   },
   "outputs": [
    {
     "data": {
      "image/png": "[encoded data removed]",
      "text/plain": [
       "<Figure size 1200x600 with 1 Axes>"
      ]
     },
     "metadata": {},
     "output_type": "display_data"
    }
   ],
   "source": [
    "# A box plot showing outliers\n",
    "sns.set_style('darkgrid')\n",
    "plt.figure(figsize=(12, 6))\n",
    "sns.countplot(x = 'Label', data = train)\n",
    "plt.title('Target Variable Distribution')\n",
    "plt.show()"
   ]
  },
  {
   "cell_type": "markdown",
   "metadata": {
    "id": "0bwxAzFqkAcW"
   },
   "source": [
    "There is a class imbalance in our dataset"
   ]
  },
  {
   "cell_type": "code",
   "execution_count": 12,
   "metadata": {
    "colab": {
     "base_uri": "https://localhost:8080/",
     "height": 837
    },
    "executionInfo": {
     "elapsed": 2729,
     "status": "ok",
     "timestamp": 1677147647572,
     "user": {
      "displayName": "Nelson Mganga",
      "userId": "15984282569117459010"
     },
     "user_tz": -180
    },
    "id": "O-alO18wjhIv",
    "outputId": "d41254bd-0507-4cf2-b6c9-e598287d175c"
   },
   "outputs": [],
   "source": [
    "# Plotting a heatmap to show correlations between variables\n",
    "# corr = train.corr()\n",
    "# plt.figure(figsize = (15, 12))\n",
    "# sns.heatmap(corr, cmap='RdYlGn', annot = True, center = 0)\n",
    "# plt.title('Correlogram', fontsize = 15, color = 'darkgreen')\n",
    "# plt.show()"
   ]
  },
  {
   "cell_type": "markdown",
   "metadata": {
    "id": "Dn75q_-4mQ1E"
   },
   "source": [
    "Most features are not strongly correlated with the target"
   ]
  },
  {
   "cell_type": "markdown",
   "metadata": {
    "id": "sOs6JaZJmcgm"
   },
   "source": [
    "<a name=\"Preprocess\"></a>\n",
    "## 6. Modeling"
   ]
  },
  {
   "cell_type": "code",
   "execution_count": 13,
   "metadata": {
    "id": "yNkmO-pOmXnQ"
   },
   "outputs": [],
   "source": [
    "#scale numerical features for logistic model\n",
    "features = train.drop(columns=['ID','Label']).columns\n",
    "target = 'Label'\n",
    "\n",
    "# define standard scaler\n",
    "scaler = StandardScaler()\n",
    "\n",
    "# transform data\n",
    "train[features] = scaler.fit_transform(train[features])\n",
    "test[features] = scaler.transform(test[features])"
   ]
  },
  {
   "cell_type": "code",
   "execution_count": 14,
   "metadata": {
    "id": "hc2hW7ukqmxJ"
   },
   "outputs": [],
   "source": [
    "#split train data into train and validation set\n",
    "X_train, X_test, y_train, y_test = train_test_split(train[features], \n",
    "                                                    train[target].to_frame(),\n",
    "                                                    stratify=train[target], #to account for class imbalance\n",
    "                                                    test_size=0.3,\n",
    "                                                    random_state=SEED)"
   ]
  },
  {
   "cell_type": "code",
   "execution_count": 15,
   "metadata": {
    "id": "oUUpIU4Dm91B"
   },
   "outputs": [],
   "source": [
    "#fit logistic regression model on rrain data\n",
    "model = LogisticRegression()\n",
    "model.fit(X_train, y_train['Label'])\n",
    "\n",
    "#make predictions on validation set\n",
    "preds = model.predict(X_test)"
   ]
  },
  {
   "cell_type": "code",
   "execution_count": 16,
   "metadata": {
    "colab": {
     "base_uri": "https://localhost:8080/"
    },
    "executionInfo": {
     "elapsed": 3,
     "status": "ok",
     "timestamp": 1677147654232,
     "user": {
      "displayName": "Nelson Mganga",
      "userId": "15984282569117459010"
     },
     "user_tz": -180
    },
    "id": "WOcKbMxjsHzA",
    "outputId": "1510be53-2892-4a96-e614-2dcb03280236"
   },
   "outputs": [
    {
     "name": "stdout",
     "output_type": "stream",
     "text": [
      "              precision    recall  f1-score   support\n",
      "\n",
      "           0       0.77      0.97      0.86      1952\n",
      "           1       0.74      0.21      0.32       721\n",
      "\n",
      "    accuracy                           0.77      2673\n",
      "   macro avg       0.76      0.59      0.59      2673\n",
      "weighted avg       0.76      0.77      0.71      2673\n",
      "\n"
     ]
    }
   ],
   "source": [
    "#check performance of the model\n",
    "print(classification_report(y_test, preds))"
   ]
  },
  {
   "cell_type": "code",
   "execution_count": 17,
   "metadata": {
    "id": "2GZiUvK0r_Tt"
   },
   "outputs": [],
   "source": [
    "#make predictions on test set\n",
    "test['Target'] = model.predict(test[features])"
   ]
  },
  {
   "cell_type": "code",
   "execution_count": 18,
   "metadata": {
    "id": "ahX_aqSJshDy"
   },
   "outputs": [],
   "source": [
    "sub = test[['ID', 'Target']]"
   ]
  },
  {
   "cell_type": "code",
   "execution_count": 19,
   "metadata": {
    "colab": {
     "base_uri": "https://localhost:8080/",
     "height": 206
    },
    "executionInfo": {
     "elapsed": 4,
     "status": "ok",
     "timestamp": 1677147659179,
     "user": {
      "displayName": "Nelson Mganga",
      "userId": "15984282569117459010"
     },
     "user_tz": -180
    },
    "id": "O6hSYXRhtA7m",
    "outputId": "8dc3f6a3-0bc9-4ab4-c1a0-b0e27d641499"
   },
   "outputs": [
    {
     "data": {
      "text/html": [
       "<div>\n",
       "<style scoped>\n",
       "    .dataframe tbody tr th:only-of-type {\n",
       "        vertical-align: middle;\n",
       "    }\n",
       "\n",
       "    .dataframe tbody tr th {\n",
       "        vertical-align: top;\n",
       "    }\n",
       "\n",
       "    .dataframe thead th {\n",
       "        text-align: right;\n",
       "    }\n",
       "</style>\n",
       "<table border=\"1\" class=\"dataframe\">\n",
       "  <thead>\n",
       "    <tr style=\"text-align: right;\">\n",
       "      <th></th>\n",
       "      <th>ID</th>\n",
       "      <th>Target</th>\n",
       "    </tr>\n",
       "  </thead>\n",
       "  <tbody>\n",
       "    <tr>\n",
       "      <th>0</th>\n",
       "      <td>ID_L7RNFK5JC9</td>\n",
       "      <td>0</td>\n",
       "    </tr>\n",
       "    <tr>\n",
       "      <th>1</th>\n",
       "      <td>ID_KUTY5K1G5F</td>\n",
       "      <td>0</td>\n",
       "    </tr>\n",
       "    <tr>\n",
       "      <th>2</th>\n",
       "      <td>ID_H6PJWKU831</td>\n",
       "      <td>0</td>\n",
       "    </tr>\n",
       "    <tr>\n",
       "      <th>3</th>\n",
       "      <td>ID_DNQXNVTXHE</td>\n",
       "      <td>1</td>\n",
       "    </tr>\n",
       "    <tr>\n",
       "      <th>4</th>\n",
       "      <td>ID_8CRTF1BJOD</td>\n",
       "      <td>0</td>\n",
       "    </tr>\n",
       "  </tbody>\n",
       "</table>\n",
       "</div>"
      ],
      "text/plain": [
       "              ID  Target\n",
       "0  ID_L7RNFK5JC9       0\n",
       "1  ID_KUTY5K1G5F       0\n",
       "2  ID_H6PJWKU831       0\n",
       "3  ID_DNQXNVTXHE       1\n",
       "4  ID_8CRTF1BJOD       0"
      ]
     },
     "execution_count": 19,
     "metadata": {},
     "output_type": "execute_result"
    }
   ],
   "source": [
    "sub.head()"
   ]
  },
  {
   "cell_type": "code",
   "execution_count": 20,
   "metadata": {
    "id": "XnuWWZsawTPD"
   },
   "outputs": [],
   "source": [
    "sub.to_csv('first_submission_crypto.csv', index=False)"
   ]
  },
  {
   "cell_type": "code",
   "execution_count": null,
   "metadata": {},
   "outputs": [],
   "source": []
  }
 ],
 "metadata": {
  "colab": {
   "authorship_tag": "ABX9TyOMe5uXibuEJJnU7rFSu4vY",
   "mount_file_id": "1H3GeG5wrF4fLD940eUJNyVMicurgH2KY",
   "provenance": []
  },
  "kernelspec": {
   "display_name": "Python 3",
   "language": "python",
   "name": "python3"
  },
  "language_info": {
   "codemirror_mode": {
    "name": "ipython",
    "version": 3
   },
   "file_extension": ".py",
   "mimetype": "text/x-python",
   "name": "python",
   "nbconvert_exporter": "python",
   "pygments_lexer": "ipython3",
   "version": "3.9.13"
  }
 },
 "nbformat": 4,
 "nbformat_minor": 1
}
