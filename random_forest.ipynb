{
 "cells": [
  {
   "cell_type": "code",
   "execution_count": 1,
   "metadata": {},
   "outputs": [],
   "source": [
    "import pandas as pd\n",
    "import numpy as np\n",
    "import sklearn\n",
    "\n",
    "from sklearn.ensemble import RandomForestClassifier\n",
    "from sklearn.model_selection import RandomizedSearchCV"
   ]
  },
  {
   "cell_type": "code",
   "execution_count": 2,
   "metadata": {},
   "outputs": [],
   "source": [
    "data = pd.read_csv('cleaned_data.csv', index_col= 0)"
   ]
  },
  {
   "cell_type": "code",
   "execution_count": 3,
   "metadata": {},
   "outputs": [],
   "source": [
    "data = data.sample(frac = 1)"
   ]
  },
  {
   "cell_type": "code",
   "execution_count": 4,
   "metadata": {},
   "outputs": [
    {
     "data": {
      "text/html": [
       "<div>\n",
       "<style scoped>\n",
       "    .dataframe tbody tr th:only-of-type {\n",
       "        vertical-align: middle;\n",
       "    }\n",
       "\n",
       "    .dataframe tbody tr th {\n",
       "        vertical-align: top;\n",
       "    }\n",
       "\n",
       "    .dataframe thead th {\n",
       "        text-align: right;\n",
       "    }\n",
       "</style>\n",
       "<table border=\"1\" class=\"dataframe\">\n",
       "  <thead>\n",
       "    <tr style=\"text-align: right;\">\n",
       "      <th></th>\n",
       "      <th>I/O Data Operations</th>\n",
       "      <th>I/O Data Bytes</th>\n",
       "      <th>Number of subprocesses</th>\n",
       "      <th>Time on processor</th>\n",
       "      <th>Disk Reading/sec</th>\n",
       "      <th>Received Bytes (HTTP)</th>\n",
       "      <th>Network packets sent</th>\n",
       "      <th>Network packets received</th>\n",
       "      <th>Pages Input/sec</th>\n",
       "      <th>Page Errors/sec</th>\n",
       "      <th>Confirmed byte radius</th>\n",
       "      <th>Label</th>\n",
       "    </tr>\n",
       "    <tr>\n",
       "      <th>ID</th>\n",
       "      <th></th>\n",
       "      <th></th>\n",
       "      <th></th>\n",
       "      <th></th>\n",
       "      <th></th>\n",
       "      <th></th>\n",
       "      <th></th>\n",
       "      <th></th>\n",
       "      <th></th>\n",
       "      <th></th>\n",
       "      <th></th>\n",
       "      <th></th>\n",
       "    </tr>\n",
       "  </thead>\n",
       "  <tbody>\n",
       "    <tr>\n",
       "      <th>ID_MJ5EXDDI1Z</th>\n",
       "      <td>21.833731</td>\n",
       "      <td>5164.821201</td>\n",
       "      <td>27.0</td>\n",
       "      <td>0.208271</td>\n",
       "      <td>0.666340</td>\n",
       "      <td>157.633761</td>\n",
       "      <td>0.844030</td>\n",
       "      <td>0.621917</td>\n",
       "      <td>0.0</td>\n",
       "      <td>773.553754</td>\n",
       "      <td>30.621883</td>\n",
       "      <td>1</td>\n",
       "    </tr>\n",
       "    <tr>\n",
       "      <th>ID_BWCY2EXWHR</th>\n",
       "      <td>32.709430</td>\n",
       "      <td>121124.141400</td>\n",
       "      <td>31.0</td>\n",
       "      <td>0.496719</td>\n",
       "      <td>16.816737</td>\n",
       "      <td>40833.970210</td>\n",
       "      <td>16.727877</td>\n",
       "      <td>30.967677</td>\n",
       "      <td>0.0</td>\n",
       "      <td>13576.149690</td>\n",
       "      <td>28.442165</td>\n",
       "      <td>0</td>\n",
       "    </tr>\n",
       "    <tr>\n",
       "      <th>ID_SXH210Y4SW</th>\n",
       "      <td>2.267409</td>\n",
       "      <td>831.827915</td>\n",
       "      <td>27.0</td>\n",
       "      <td>0.000000</td>\n",
       "      <td>1.200393</td>\n",
       "      <td>102.255703</td>\n",
       "      <td>0.955869</td>\n",
       "      <td>0.577967</td>\n",
       "      <td>0.0</td>\n",
       "      <td>239.367263</td>\n",
       "      <td>24.999124</td>\n",
       "      <td>0</td>\n",
       "    </tr>\n",
       "    <tr>\n",
       "      <th>ID_Q6ZCL1SU4N</th>\n",
       "      <td>5.089690</td>\n",
       "      <td>1130.834289</td>\n",
       "      <td>29.0</td>\n",
       "      <td>0.000000</td>\n",
       "      <td>0.099798</td>\n",
       "      <td>22.454514</td>\n",
       "      <td>0.174646</td>\n",
       "      <td>0.149697</td>\n",
       "      <td>0.0</td>\n",
       "      <td>464.658749</td>\n",
       "      <td>21.287350</td>\n",
       "      <td>1</td>\n",
       "    </tr>\n",
       "    <tr>\n",
       "      <th>ID_0JBNAFK5F8</th>\n",
       "      <td>72.685915</td>\n",
       "      <td>15768.381100</td>\n",
       "      <td>28.0</td>\n",
       "      <td>0.763157</td>\n",
       "      <td>1.420861</td>\n",
       "      <td>6165.781413</td>\n",
       "      <td>0.999043</td>\n",
       "      <td>4.773205</td>\n",
       "      <td>0.0</td>\n",
       "      <td>1737.069036</td>\n",
       "      <td>34.166668</td>\n",
       "      <td>1</td>\n",
       "    </tr>\n",
       "  </tbody>\n",
       "</table>\n",
       "</div>"
      ],
      "text/plain": [
       "               I/O Data Operations   I/O Data Bytes  Number of subprocesses   \n",
       "ID                                                                            \n",
       "ID_MJ5EXDDI1Z            21.833731      5164.821201                    27.0  \\\n",
       "ID_BWCY2EXWHR            32.709430    121124.141400                    31.0   \n",
       "ID_SXH210Y4SW             2.267409       831.827915                    27.0   \n",
       "ID_Q6ZCL1SU4N             5.089690      1130.834289                    29.0   \n",
       "ID_0JBNAFK5F8            72.685915     15768.381100                    28.0   \n",
       "\n",
       "               Time on processor  Disk Reading/sec  Received Bytes (HTTP)   \n",
       "ID                                                                          \n",
       "ID_MJ5EXDDI1Z           0.208271          0.666340             157.633761  \\\n",
       "ID_BWCY2EXWHR           0.496719         16.816737           40833.970210   \n",
       "ID_SXH210Y4SW           0.000000          1.200393             102.255703   \n",
       "ID_Q6ZCL1SU4N           0.000000          0.099798              22.454514   \n",
       "ID_0JBNAFK5F8           0.763157          1.420861            6165.781413   \n",
       "\n",
       "               Network packets sent  Network packets received   \n",
       "ID                                                              \n",
       "ID_MJ5EXDDI1Z              0.844030                  0.621917  \\\n",
       "ID_BWCY2EXWHR             16.727877                 30.967677   \n",
       "ID_SXH210Y4SW              0.955869                  0.577967   \n",
       "ID_Q6ZCL1SU4N              0.174646                  0.149697   \n",
       "ID_0JBNAFK5F8              0.999043                  4.773205   \n",
       "\n",
       "               Pages Input/sec  Page Errors/sec  Confirmed byte radius  Label  \n",
       "ID                                                                             \n",
       "ID_MJ5EXDDI1Z              0.0       773.553754              30.621883      1  \n",
       "ID_BWCY2EXWHR              0.0     13576.149690              28.442165      0  \n",
       "ID_SXH210Y4SW              0.0       239.367263              24.999124      0  \n",
       "ID_Q6ZCL1SU4N              0.0       464.658749              21.287350      1  \n",
       "ID_0JBNAFK5F8              0.0      1737.069036              34.166668      1  "
      ]
     },
     "execution_count": 4,
     "metadata": {},
     "output_type": "execute_result"
    }
   ],
   "source": [
    "data.head()"
   ]
  },
  {
   "cell_type": "code",
   "execution_count": 5,
   "metadata": {},
   "outputs": [],
   "source": [
    "X = data.drop('Label', axis =1)\n",
    "y= data['Label']"
   ]
  },
  {
   "cell_type": "code",
   "execution_count": 6,
   "metadata": {},
   "outputs": [],
   "source": [
    "from sklearn.model_selection import train_test_split\n",
    "X_train, X_test, y_train, y_test = train_test_split(X, y, test_size = 0.3, random_state = 42)"
   ]
  },
  {
   "cell_type": "code",
   "execution_count": 7,
   "metadata": {},
   "outputs": [],
   "source": [
    "rfc = RandomForestClassifier()"
   ]
  },
  {
   "cell_type": "code",
   "execution_count": 8,
   "metadata": {},
   "outputs": [],
   "source": [
    "from scipy.stats import randint\n",
    "\n",
    "params = {'n_estimators': randint(50,500),\n",
    "          'criterion': ['gini', 'entropy', 'log_loss'],\n",
    "            'max_depth': randint(1,20),\n",
    "            'max_features' : ['sqrt', 'log2', 'None'],\n",
    "            'bootstrap' : [True, False]\n",
    "            }\n"
   ]
  },
  {
   "cell_type": "code",
   "execution_count": 9,
   "metadata": {},
   "outputs": [],
   "source": [
    "rscv = RandomizedSearchCV(rfc, param_distributions= params, n_iter=5, cv=5)"
   ]
  },
  {
   "cell_type": "code",
   "execution_count": 10,
   "metadata": {},
   "outputs": [
    {
     "name": "stderr",
     "output_type": "stream",
     "text": [
      "/Users/josephineamponsah/Documents/hackathon/.venv/lib/python3.9/site-packages/sklearn/model_selection/_validation.py:378: FitFailedWarning: \n",
      "10 fits failed out of a total of 25.\n",
      "The score on these train-test partitions for these parameters will be set to nan.\n",
      "If these failures are not expected, you can try to debug them by setting error_score='raise'.\n",
      "\n",
      "Below are more details about the failures:\n",
      "--------------------------------------------------------------------------------\n",
      "10 fits failed with the following error:\n",
      "Traceback (most recent call last):\n",
      "  File \"/Users/josephineamponsah/Documents/hackathon/.venv/lib/python3.9/site-packages/sklearn/model_selection/_validation.py\", line 686, in _fit_and_score\n",
      "    estimator.fit(X_train, y_train, **fit_params)\n",
      "  File \"/Users/josephineamponsah/Documents/hackathon/.venv/lib/python3.9/site-packages/sklearn/ensemble/_forest.py\", line 340, in fit\n",
      "    self._validate_params()\n",
      "  File \"/Users/josephineamponsah/Documents/hackathon/.venv/lib/python3.9/site-packages/sklearn/base.py\", line 600, in _validate_params\n",
      "    validate_parameter_constraints(\n",
      "  File \"/Users/josephineamponsah/Documents/hackathon/.venv/lib/python3.9/site-packages/sklearn/utils/_param_validation.py\", line 97, in validate_parameter_constraints\n",
      "    raise InvalidParameterError(\n",
      "sklearn.utils._param_validation.InvalidParameterError: The 'max_features' parameter of RandomForestClassifier must be an int in the range [1, inf), a float in the range (0.0, 1.0], a str among {'auto' (deprecated), 'log2', 'sqrt'} or None. Got 'None' instead.\n",
      "\n",
      "  warnings.warn(some_fits_failed_message, FitFailedWarning)\n",
      "/Users/josephineamponsah/Documents/hackathon/.venv/lib/python3.9/site-packages/sklearn/model_selection/_search.py:952: UserWarning: One or more of the test scores are non-finite: [0.72600434        nan 0.81363752 0.95991678        nan]\n",
      "  warnings.warn(\n"
     ]
    },
    {
     "data": {
      "text/html": [
       "<style>#sk-container-id-1 {color: black;background-color: white;}#sk-container-id-1 pre{padding: 0;}#sk-container-id-1 div.sk-toggleable {background-color: white;}#sk-container-id-1 label.sk-toggleable__label {cursor: pointer;display: block;width: 100%;margin-bottom: 0;padding: 0.3em;box-sizing: border-box;text-align: center;}#sk-container-id-1 label.sk-toggleable__label-arrow:before {content: \"▸\";float: left;margin-right: 0.25em;color: #696969;}#sk-container-id-1 label.sk-toggleable__label-arrow:hover:before {color: black;}#sk-container-id-1 div.sk-estimator:hover label.sk-toggleable__label-arrow:before {color: black;}#sk-container-id-1 div.sk-toggleable__content {max-height: 0;max-width: 0;overflow: hidden;text-align: left;background-color: #f0f8ff;}#sk-container-id-1 div.sk-toggleable__content pre {margin: 0.2em;color: black;border-radius: 0.25em;background-color: #f0f8ff;}#sk-container-id-1 input.sk-toggleable__control:checked~div.sk-toggleable__content {max-height: 200px;max-width: 100%;overflow: auto;}#sk-container-id-1 input.sk-toggleable__control:checked~label.sk-toggleable__label-arrow:before {content: \"▾\";}#sk-container-id-1 div.sk-estimator input.sk-toggleable__control:checked~label.sk-toggleable__label {background-color: #d4ebff;}#sk-container-id-1 div.sk-label input.sk-toggleable__control:checked~label.sk-toggleable__label {background-color: #d4ebff;}#sk-container-id-1 input.sk-hidden--visually {border: 0;clip: rect(1px 1px 1px 1px);clip: rect(1px, 1px, 1px, 1px);height: 1px;margin: -1px;overflow: hidden;padding: 0;position: absolute;width: 1px;}#sk-container-id-1 div.sk-estimator {font-family: monospace;background-color: #f0f8ff;border: 1px dotted black;border-radius: 0.25em;box-sizing: border-box;margin-bottom: 0.5em;}#sk-container-id-1 div.sk-estimator:hover {background-color: #d4ebff;}#sk-container-id-1 div.sk-parallel-item::after {content: \"\";width: 100%;border-bottom: 1px solid gray;flex-grow: 1;}#sk-container-id-1 div.sk-label:hover label.sk-toggleable__label {background-color: #d4ebff;}#sk-container-id-1 div.sk-serial::before {content: \"\";position: absolute;border-left: 1px solid gray;box-sizing: border-box;top: 0;bottom: 0;left: 50%;z-index: 0;}#sk-container-id-1 div.sk-serial {display: flex;flex-direction: column;align-items: center;background-color: white;padding-right: 0.2em;padding-left: 0.2em;position: relative;}#sk-container-id-1 div.sk-item {position: relative;z-index: 1;}#sk-container-id-1 div.sk-parallel {display: flex;align-items: stretch;justify-content: center;background-color: white;position: relative;}#sk-container-id-1 div.sk-item::before, #sk-container-id-1 div.sk-parallel-item::before {content: \"\";position: absolute;border-left: 1px solid gray;box-sizing: border-box;top: 0;bottom: 0;left: 50%;z-index: -1;}#sk-container-id-1 div.sk-parallel-item {display: flex;flex-direction: column;z-index: 1;position: relative;background-color: white;}#sk-container-id-1 div.sk-parallel-item:first-child::after {align-self: flex-end;width: 50%;}#sk-container-id-1 div.sk-parallel-item:last-child::after {align-self: flex-start;width: 50%;}#sk-container-id-1 div.sk-parallel-item:only-child::after {width: 0;}#sk-container-id-1 div.sk-dashed-wrapped {border: 1px dashed gray;margin: 0 0.4em 0.5em 0.4em;box-sizing: border-box;padding-bottom: 0.4em;background-color: white;}#sk-container-id-1 div.sk-label label {font-family: monospace;font-weight: bold;display: inline-block;line-height: 1.2em;}#sk-container-id-1 div.sk-label-container {text-align: center;}#sk-container-id-1 div.sk-container {/* jupyter's `normalize.less` sets `[hidden] { display: none; }` but bootstrap.min.css set `[hidden] { display: none !important; }` so we also need the `!important` here to be able to override the default hidden behavior on the sphinx rendered scikit-learn.org. See: https://github.com/scikit-learn/scikit-learn/issues/21755 */display: inline-block !important;position: relative;}#sk-container-id-1 div.sk-text-repr-fallback {display: none;}</style><div id=\"sk-container-id-1\" class=\"sk-top-container\"><div class=\"sk-text-repr-fallback\"><pre>RandomizedSearchCV(cv=5, estimator=RandomForestClassifier(), n_iter=5,\n",
       "                   param_distributions={&#x27;bootstrap&#x27;: [True, False],\n",
       "                                        &#x27;criterion&#x27;: [&#x27;gini&#x27;, &#x27;entropy&#x27;,\n",
       "                                                      &#x27;log_loss&#x27;],\n",
       "                                        &#x27;max_depth&#x27;: &lt;scipy.stats._distn_infrastructure.rv_discrete_frozen object at 0x1679e65b0&gt;,\n",
       "                                        &#x27;max_features&#x27;: [&#x27;sqrt&#x27;, &#x27;log2&#x27;,\n",
       "                                                         &#x27;None&#x27;],\n",
       "                                        &#x27;n_estimators&#x27;: &lt;scipy.stats._distn_infrastructure.rv_discrete_frozen object at 0x1679d2fa0&gt;})</pre><b>In a Jupyter environment, please rerun this cell to show the HTML representation or trust the notebook. <br />On GitHub, the HTML representation is unable to render, please try loading this page with nbviewer.org.</b></div><div class=\"sk-container\" hidden><div class=\"sk-item sk-dashed-wrapped\"><div class=\"sk-label-container\"><div class=\"sk-label sk-toggleable\"><input class=\"sk-toggleable__control sk-hidden--visually\" id=\"sk-estimator-id-1\" type=\"checkbox\" ><label for=\"sk-estimator-id-1\" class=\"sk-toggleable__label sk-toggleable__label-arrow\">RandomizedSearchCV</label><div class=\"sk-toggleable__content\"><pre>RandomizedSearchCV(cv=5, estimator=RandomForestClassifier(), n_iter=5,\n",
       "                   param_distributions={&#x27;bootstrap&#x27;: [True, False],\n",
       "                                        &#x27;criterion&#x27;: [&#x27;gini&#x27;, &#x27;entropy&#x27;,\n",
       "                                                      &#x27;log_loss&#x27;],\n",
       "                                        &#x27;max_depth&#x27;: &lt;scipy.stats._distn_infrastructure.rv_discrete_frozen object at 0x1679e65b0&gt;,\n",
       "                                        &#x27;max_features&#x27;: [&#x27;sqrt&#x27;, &#x27;log2&#x27;,\n",
       "                                                         &#x27;None&#x27;],\n",
       "                                        &#x27;n_estimators&#x27;: &lt;scipy.stats._distn_infrastructure.rv_discrete_frozen object at 0x1679d2fa0&gt;})</pre></div></div></div><div class=\"sk-parallel\"><div class=\"sk-parallel-item\"><div class=\"sk-item\"><div class=\"sk-label-container\"><div class=\"sk-label sk-toggleable\"><input class=\"sk-toggleable__control sk-hidden--visually\" id=\"sk-estimator-id-2\" type=\"checkbox\" ><label for=\"sk-estimator-id-2\" class=\"sk-toggleable__label sk-toggleable__label-arrow\">estimator: RandomForestClassifier</label><div class=\"sk-toggleable__content\"><pre>RandomForestClassifier()</pre></div></div></div><div class=\"sk-serial\"><div class=\"sk-item\"><div class=\"sk-estimator sk-toggleable\"><input class=\"sk-toggleable__control sk-hidden--visually\" id=\"sk-estimator-id-3\" type=\"checkbox\" ><label for=\"sk-estimator-id-3\" class=\"sk-toggleable__label sk-toggleable__label-arrow\">RandomForestClassifier</label><div class=\"sk-toggleable__content\"><pre>RandomForestClassifier()</pre></div></div></div></div></div></div></div></div></div></div>"
      ],
      "text/plain": [
       "RandomizedSearchCV(cv=5, estimator=RandomForestClassifier(), n_iter=5,\n",
       "                   param_distributions={'bootstrap': [True, False],\n",
       "                                        'criterion': ['gini', 'entropy',\n",
       "                                                      'log_loss'],\n",
       "                                        'max_depth': <scipy.stats._distn_infrastructure.rv_discrete_frozen object at 0x1679e65b0>,\n",
       "                                        'max_features': ['sqrt', 'log2',\n",
       "                                                         'None'],\n",
       "                                        'n_estimators': <scipy.stats._distn_infrastructure.rv_discrete_frozen object at 0x1679d2fa0>})"
      ]
     },
     "execution_count": 10,
     "metadata": {},
     "output_type": "execute_result"
    }
   ],
   "source": [
    "rscv.fit(X_train, y_train)"
   ]
  },
  {
   "cell_type": "code",
   "execution_count": 11,
   "metadata": {},
   "outputs": [
    {
     "data": {
      "text/plain": [
       "{'bootstrap': False,\n",
       " 'criterion': 'log_loss',\n",
       " 'max_depth': 11,\n",
       " 'max_features': 'sqrt',\n",
       " 'n_estimators': 442}"
      ]
     },
     "execution_count": 11,
     "metadata": {},
     "output_type": "execute_result"
    }
   ],
   "source": [
    "rscv.best_params_"
   ]
  },
  {
   "cell_type": "code",
   "execution_count": 12,
   "metadata": {},
   "outputs": [],
   "source": [
    "first_model = RandomForestClassifier(bootstrap= False, criterion='log_loss', max_depth=11, max_features='sqrt', n_estimators=169)"
   ]
  },
  {
   "cell_type": "code",
   "execution_count": 13,
   "metadata": {},
   "outputs": [
    {
     "data": {
      "text/html": [
       "<style>#sk-container-id-2 {color: black;background-color: white;}#sk-container-id-2 pre{padding: 0;}#sk-container-id-2 div.sk-toggleable {background-color: white;}#sk-container-id-2 label.sk-toggleable__label {cursor: pointer;display: block;width: 100%;margin-bottom: 0;padding: 0.3em;box-sizing: border-box;text-align: center;}#sk-container-id-2 label.sk-toggleable__label-arrow:before {content: \"▸\";float: left;margin-right: 0.25em;color: #696969;}#sk-container-id-2 label.sk-toggleable__label-arrow:hover:before {color: black;}#sk-container-id-2 div.sk-estimator:hover label.sk-toggleable__label-arrow:before {color: black;}#sk-container-id-2 div.sk-toggleable__content {max-height: 0;max-width: 0;overflow: hidden;text-align: left;background-color: #f0f8ff;}#sk-container-id-2 div.sk-toggleable__content pre {margin: 0.2em;color: black;border-radius: 0.25em;background-color: #f0f8ff;}#sk-container-id-2 input.sk-toggleable__control:checked~div.sk-toggleable__content {max-height: 200px;max-width: 100%;overflow: auto;}#sk-container-id-2 input.sk-toggleable__control:checked~label.sk-toggleable__label-arrow:before {content: \"▾\";}#sk-container-id-2 div.sk-estimator input.sk-toggleable__control:checked~label.sk-toggleable__label {background-color: #d4ebff;}#sk-container-id-2 div.sk-label input.sk-toggleable__control:checked~label.sk-toggleable__label {background-color: #d4ebff;}#sk-container-id-2 input.sk-hidden--visually {border: 0;clip: rect(1px 1px 1px 1px);clip: rect(1px, 1px, 1px, 1px);height: 1px;margin: -1px;overflow: hidden;padding: 0;position: absolute;width: 1px;}#sk-container-id-2 div.sk-estimator {font-family: monospace;background-color: #f0f8ff;border: 1px dotted black;border-radius: 0.25em;box-sizing: border-box;margin-bottom: 0.5em;}#sk-container-id-2 div.sk-estimator:hover {background-color: #d4ebff;}#sk-container-id-2 div.sk-parallel-item::after {content: \"\";width: 100%;border-bottom: 1px solid gray;flex-grow: 1;}#sk-container-id-2 div.sk-label:hover label.sk-toggleable__label {background-color: #d4ebff;}#sk-container-id-2 div.sk-serial::before {content: \"\";position: absolute;border-left: 1px solid gray;box-sizing: border-box;top: 0;bottom: 0;left: 50%;z-index: 0;}#sk-container-id-2 div.sk-serial {display: flex;flex-direction: column;align-items: center;background-color: white;padding-right: 0.2em;padding-left: 0.2em;position: relative;}#sk-container-id-2 div.sk-item {position: relative;z-index: 1;}#sk-container-id-2 div.sk-parallel {display: flex;align-items: stretch;justify-content: center;background-color: white;position: relative;}#sk-container-id-2 div.sk-item::before, #sk-container-id-2 div.sk-parallel-item::before {content: \"\";position: absolute;border-left: 1px solid gray;box-sizing: border-box;top: 0;bottom: 0;left: 50%;z-index: -1;}#sk-container-id-2 div.sk-parallel-item {display: flex;flex-direction: column;z-index: 1;position: relative;background-color: white;}#sk-container-id-2 div.sk-parallel-item:first-child::after {align-self: flex-end;width: 50%;}#sk-container-id-2 div.sk-parallel-item:last-child::after {align-self: flex-start;width: 50%;}#sk-container-id-2 div.sk-parallel-item:only-child::after {width: 0;}#sk-container-id-2 div.sk-dashed-wrapped {border: 1px dashed gray;margin: 0 0.4em 0.5em 0.4em;box-sizing: border-box;padding-bottom: 0.4em;background-color: white;}#sk-container-id-2 div.sk-label label {font-family: monospace;font-weight: bold;display: inline-block;line-height: 1.2em;}#sk-container-id-2 div.sk-label-container {text-align: center;}#sk-container-id-2 div.sk-container {/* jupyter's `normalize.less` sets `[hidden] { display: none; }` but bootstrap.min.css set `[hidden] { display: none !important; }` so we also need the `!important` here to be able to override the default hidden behavior on the sphinx rendered scikit-learn.org. See: https://github.com/scikit-learn/scikit-learn/issues/21755 */display: inline-block !important;position: relative;}#sk-container-id-2 div.sk-text-repr-fallback {display: none;}</style><div id=\"sk-container-id-2\" class=\"sk-top-container\"><div class=\"sk-text-repr-fallback\"><pre>RandomForestClassifier(bootstrap=False, criterion=&#x27;log_loss&#x27;, max_depth=11,\n",
       "                       n_estimators=169)</pre><b>In a Jupyter environment, please rerun this cell to show the HTML representation or trust the notebook. <br />On GitHub, the HTML representation is unable to render, please try loading this page with nbviewer.org.</b></div><div class=\"sk-container\" hidden><div class=\"sk-item\"><div class=\"sk-estimator sk-toggleable\"><input class=\"sk-toggleable__control sk-hidden--visually\" id=\"sk-estimator-id-4\" type=\"checkbox\" checked><label for=\"sk-estimator-id-4\" class=\"sk-toggleable__label sk-toggleable__label-arrow\">RandomForestClassifier</label><div class=\"sk-toggleable__content\"><pre>RandomForestClassifier(bootstrap=False, criterion=&#x27;log_loss&#x27;, max_depth=11,\n",
       "                       n_estimators=169)</pre></div></div></div></div></div>"
      ],
      "text/plain": [
       "RandomForestClassifier(bootstrap=False, criterion='log_loss', max_depth=11,\n",
       "                       n_estimators=169)"
      ]
     },
     "execution_count": 13,
     "metadata": {},
     "output_type": "execute_result"
    }
   ],
   "source": [
    "first_model.fit(X_train, y_train)"
   ]
  },
  {
   "cell_type": "code",
   "execution_count": 14,
   "metadata": {},
   "outputs": [],
   "source": [
    "test_output = first_model.predict(X_test)"
   ]
  },
  {
   "cell_type": "code",
   "execution_count": 15,
   "metadata": {},
   "outputs": [],
   "source": [
    "train_output = first_model.predict(X_train)"
   ]
  },
  {
   "cell_type": "code",
   "execution_count": 16,
   "metadata": {},
   "outputs": [],
   "source": [
    "from sklearn.metrics import  f1_score, precision_score, recall_score, accuracy_score"
   ]
  },
  {
   "cell_type": "code",
   "execution_count": 17,
   "metadata": {},
   "outputs": [],
   "source": [
    "score_list = [f1_score , precision_score , recall_score , accuracy_score]\n",
    "def eval_model(score_list, y_true, y_pred):\n",
    "    results = []\n",
    "    for score in score_list:\n",
    "        value = score(y_true, y_pred)\n",
    "        results.append({\"score_name\" : score, \"value\": value})\n",
    "    return pd.DataFrame(results)"
   ]
  },
  {
   "cell_type": "code",
   "execution_count": 18,
   "metadata": {},
   "outputs": [
    {
     "data": {
      "text/html": [
       "<div>\n",
       "<style scoped>\n",
       "    .dataframe tbody tr th:only-of-type {\n",
       "        vertical-align: middle;\n",
       "    }\n",
       "\n",
       "    .dataframe tbody tr th {\n",
       "        vertical-align: top;\n",
       "    }\n",
       "\n",
       "    .dataframe thead th {\n",
       "        text-align: right;\n",
       "    }\n",
       "</style>\n",
       "<table border=\"1\" class=\"dataframe\">\n",
       "  <thead>\n",
       "    <tr style=\"text-align: right;\">\n",
       "      <th></th>\n",
       "      <th>score_name</th>\n",
       "      <th>value</th>\n",
       "    </tr>\n",
       "  </thead>\n",
       "  <tbody>\n",
       "    <tr>\n",
       "      <th>0</th>\n",
       "      <td>&lt;function f1_score at 0x1661f8280&gt;</td>\n",
       "      <td>0.964510</td>\n",
       "    </tr>\n",
       "    <tr>\n",
       "      <th>1</th>\n",
       "      <td>&lt;function precision_score at 0x1661f8670&gt;</td>\n",
       "      <td>0.953708</td>\n",
       "    </tr>\n",
       "    <tr>\n",
       "      <th>2</th>\n",
       "      <td>&lt;function recall_score at 0x1661f8700&gt;</td>\n",
       "      <td>0.975560</td>\n",
       "    </tr>\n",
       "    <tr>\n",
       "      <th>3</th>\n",
       "      <td>&lt;function accuracy_score at 0x1661eeee0&gt;</td>\n",
       "      <td>0.963874</td>\n",
       "    </tr>\n",
       "  </tbody>\n",
       "</table>\n",
       "</div>"
      ],
      "text/plain": [
       "                                  score_name     value\n",
       "0         <function f1_score at 0x1661f8280>  0.964510\n",
       "1  <function precision_score at 0x1661f8670>  0.953708\n",
       "2     <function recall_score at 0x1661f8700>  0.975560\n",
       "3   <function accuracy_score at 0x1661eeee0>  0.963874"
      ]
     },
     "execution_count": 18,
     "metadata": {},
     "output_type": "execute_result"
    }
   ],
   "source": [
    "#performance on test set\n",
    "eval_model(score_list, y_test, test_output)"
   ]
  },
  {
   "cell_type": "code",
   "execution_count": 19,
   "metadata": {},
   "outputs": [
    {
     "data": {
      "text/html": [
       "<div>\n",
       "<style scoped>\n",
       "    .dataframe tbody tr th:only-of-type {\n",
       "        vertical-align: middle;\n",
       "    }\n",
       "\n",
       "    .dataframe tbody tr th {\n",
       "        vertical-align: top;\n",
       "    }\n",
       "\n",
       "    .dataframe thead th {\n",
       "        text-align: right;\n",
       "    }\n",
       "</style>\n",
       "<table border=\"1\" class=\"dataframe\">\n",
       "  <thead>\n",
       "    <tr style=\"text-align: right;\">\n",
       "      <th></th>\n",
       "      <th>score_name</th>\n",
       "      <th>value</th>\n",
       "    </tr>\n",
       "  </thead>\n",
       "  <tbody>\n",
       "    <tr>\n",
       "      <th>0</th>\n",
       "      <td>&lt;function f1_score at 0x1661f8280&gt;</td>\n",
       "      <td>0.979199</td>\n",
       "    </tr>\n",
       "    <tr>\n",
       "      <th>1</th>\n",
       "      <td>&lt;function precision_score at 0x1661f8670&gt;</td>\n",
       "      <td>0.973656</td>\n",
       "    </tr>\n",
       "    <tr>\n",
       "      <th>2</th>\n",
       "      <td>&lt;function recall_score at 0x1661f8700&gt;</td>\n",
       "      <td>0.984805</td>\n",
       "    </tr>\n",
       "    <tr>\n",
       "      <th>3</th>\n",
       "      <td>&lt;function accuracy_score at 0x1661eeee0&gt;</td>\n",
       "      <td>0.979135</td>\n",
       "    </tr>\n",
       "  </tbody>\n",
       "</table>\n",
       "</div>"
      ],
      "text/plain": [
       "                                  score_name     value\n",
       "0         <function f1_score at 0x1661f8280>  0.979199\n",
       "1  <function precision_score at 0x1661f8670>  0.973656\n",
       "2     <function recall_score at 0x1661f8700>  0.984805\n",
       "3   <function accuracy_score at 0x1661eeee0>  0.979135"
      ]
     },
     "execution_count": 19,
     "metadata": {},
     "output_type": "execute_result"
    }
   ],
   "source": [
    "eval_model(score_list, y_train, train_output)"
   ]
  },
  {
   "attachments": {},
   "cell_type": "markdown",
   "metadata": {},
   "source": [
    "First Submission"
   ]
  },
  {
   "cell_type": "code",
   "execution_count": 20,
   "metadata": {},
   "outputs": [],
   "source": [
    "test_data = pd.read_csv('hack4ghana/Test.csv', index_col=0)\n",
    "test = test_data.drop(['Disc Writing/sec', 'Bytes Sent/sent', 'Pages Read/sec'], axis=1)"
   ]
  },
  {
   "cell_type": "code",
   "execution_count": 21,
   "metadata": {},
   "outputs": [
    {
     "data": {
      "text/html": [
       "<div>\n",
       "<style scoped>\n",
       "    .dataframe tbody tr th:only-of-type {\n",
       "        vertical-align: middle;\n",
       "    }\n",
       "\n",
       "    .dataframe tbody tr th {\n",
       "        vertical-align: top;\n",
       "    }\n",
       "\n",
       "    .dataframe thead th {\n",
       "        text-align: right;\n",
       "    }\n",
       "</style>\n",
       "<table border=\"1\" class=\"dataframe\">\n",
       "  <thead>\n",
       "    <tr style=\"text-align: right;\">\n",
       "      <th></th>\n",
       "      <th>I/O Data Operations</th>\n",
       "      <th>I/O Data Bytes</th>\n",
       "      <th>Number of subprocesses</th>\n",
       "      <th>Time on processor</th>\n",
       "      <th>Disk Reading/sec</th>\n",
       "      <th>Received Bytes (HTTP)</th>\n",
       "      <th>Network packets sent</th>\n",
       "      <th>Network packets received</th>\n",
       "      <th>Pages Input/sec</th>\n",
       "      <th>Page Errors/sec</th>\n",
       "      <th>Confirmed byte radius</th>\n",
       "    </tr>\n",
       "    <tr>\n",
       "      <th>ID</th>\n",
       "      <th></th>\n",
       "      <th></th>\n",
       "      <th></th>\n",
       "      <th></th>\n",
       "      <th></th>\n",
       "      <th></th>\n",
       "      <th></th>\n",
       "      <th></th>\n",
       "      <th></th>\n",
       "      <th></th>\n",
       "      <th></th>\n",
       "    </tr>\n",
       "  </thead>\n",
       "  <tbody>\n",
       "    <tr>\n",
       "      <th>ID_L7RNFK5JC9</th>\n",
       "      <td>32.709430</td>\n",
       "      <td>1.211241e+05</td>\n",
       "      <td>30.407359</td>\n",
       "      <td>0.496719</td>\n",
       "      <td>3.999064</td>\n",
       "      <td>737.338490</td>\n",
       "      <td>1.844013</td>\n",
       "      <td>1.910664</td>\n",
       "      <td>0.0</td>\n",
       "      <td>726.318848</td>\n",
       "      <td>20.008686</td>\n",
       "    </tr>\n",
       "    <tr>\n",
       "      <th>ID_KUTY5K1G5F</th>\n",
       "      <td>2.065990</td>\n",
       "      <td>2.029713e+03</td>\n",
       "      <td>29.000000</td>\n",
       "      <td>0.000000</td>\n",
       "      <td>3.665467</td>\n",
       "      <td>41.119875</td>\n",
       "      <td>0.733093</td>\n",
       "      <td>0.577589</td>\n",
       "      <td>0.0</td>\n",
       "      <td>385.473839</td>\n",
       "      <td>33.015399</td>\n",
       "    </tr>\n",
       "    <tr>\n",
       "      <th>ID_H6PJWKU831</th>\n",
       "      <td>114.524684</td>\n",
       "      <td>3.888551e+03</td>\n",
       "      <td>28.000000</td>\n",
       "      <td>0.486075</td>\n",
       "      <td>0.777719</td>\n",
       "      <td>11.332477</td>\n",
       "      <td>0.177764</td>\n",
       "      <td>0.133323</td>\n",
       "      <td>0.0</td>\n",
       "      <td>504.828540</td>\n",
       "      <td>30.091141</td>\n",
       "    </tr>\n",
       "    <tr>\n",
       "      <th>ID_DNQXNVTXHE</th>\n",
       "      <td>27.036810</td>\n",
       "      <td>5.581325e+03</td>\n",
       "      <td>25.000000</td>\n",
       "      <td>0.314968</td>\n",
       "      <td>1.789015</td>\n",
       "      <td>13.430214</td>\n",
       "      <td>0.302369</td>\n",
       "      <td>0.125987</td>\n",
       "      <td>0.0</td>\n",
       "      <td>465.950312</td>\n",
       "      <td>22.211252</td>\n",
       "    </tr>\n",
       "    <tr>\n",
       "      <th>ID_8CRTF1BJOD</th>\n",
       "      <td>1.177267</td>\n",
       "      <td>1.766345e+02</td>\n",
       "      <td>28.000000</td>\n",
       "      <td>0.000000</td>\n",
       "      <td>1.710369</td>\n",
       "      <td>57.508380</td>\n",
       "      <td>0.888503</td>\n",
       "      <td>0.777440</td>\n",
       "      <td>0.0</td>\n",
       "      <td>771.665166</td>\n",
       "      <td>31.032570</td>\n",
       "    </tr>\n",
       "    <tr>\n",
       "      <th>...</th>\n",
       "      <td>...</td>\n",
       "      <td>...</td>\n",
       "      <td>...</td>\n",
       "      <td>...</td>\n",
       "      <td>...</td>\n",
       "      <td>...</td>\n",
       "      <td>...</td>\n",
       "      <td>...</td>\n",
       "      <td>...</td>\n",
       "      <td>...</td>\n",
       "      <td>...</td>\n",
       "    </tr>\n",
       "    <tr>\n",
       "      <th>ID_PAWIH292SB</th>\n",
       "      <td>7.290908</td>\n",
       "      <td>3.276107e+03</td>\n",
       "      <td>27.000000</td>\n",
       "      <td>0.034732</td>\n",
       "      <td>0.755765</td>\n",
       "      <td>60.416728</td>\n",
       "      <td>0.955820</td>\n",
       "      <td>0.866907</td>\n",
       "      <td>0.0</td>\n",
       "      <td>332.647660</td>\n",
       "      <td>28.937109</td>\n",
       "    </tr>\n",
       "    <tr>\n",
       "      <th>ID_EMPXLFEHRN</th>\n",
       "      <td>12.336515</td>\n",
       "      <td>2.539813e+04</td>\n",
       "      <td>42.000000</td>\n",
       "      <td>1.528201</td>\n",
       "      <td>17.115526</td>\n",
       "      <td>17492.334080</td>\n",
       "      <td>8.535535</td>\n",
       "      <td>17.737909</td>\n",
       "      <td>0.0</td>\n",
       "      <td>15087.869440</td>\n",
       "      <td>28.098248</td>\n",
       "    </tr>\n",
       "    <tr>\n",
       "      <th>ID_437MU86JLQ</th>\n",
       "      <td>4.754111</td>\n",
       "      <td>1.123303e+03</td>\n",
       "      <td>30.000000</td>\n",
       "      <td>0.000000</td>\n",
       "      <td>1.932746</td>\n",
       "      <td>28.702390</td>\n",
       "      <td>0.533171</td>\n",
       "      <td>0.377663</td>\n",
       "      <td>0.0</td>\n",
       "      <td>370.087546</td>\n",
       "      <td>31.630495</td>\n",
       "    </tr>\n",
       "    <tr>\n",
       "      <th>ID_TMGB3DFDLX</th>\n",
       "      <td>271.668446</td>\n",
       "      <td>3.287590e+06</td>\n",
       "      <td>33.000000</td>\n",
       "      <td>9.429024</td>\n",
       "      <td>11.242224</td>\n",
       "      <td>107508.960100</td>\n",
       "      <td>18.371984</td>\n",
       "      <td>81.623461</td>\n",
       "      <td>0.0</td>\n",
       "      <td>8097.574777</td>\n",
       "      <td>27.496611</td>\n",
       "    </tr>\n",
       "    <tr>\n",
       "      <th>ID_S2ZV4BHNN5</th>\n",
       "      <td>5.093725</td>\n",
       "      <td>1.108653e+03</td>\n",
       "      <td>25.000000</td>\n",
       "      <td>0.000000</td>\n",
       "      <td>0.511597</td>\n",
       "      <td>15.637068</td>\n",
       "      <td>0.177947</td>\n",
       "      <td>0.066730</td>\n",
       "      <td>0.0</td>\n",
       "      <td>335.296100</td>\n",
       "      <td>20.610488</td>\n",
       "    </tr>\n",
       "  </tbody>\n",
       "</table>\n",
       "<p>3818 rows × 11 columns</p>\n",
       "</div>"
      ],
      "text/plain": [
       "               I/O Data Operations   I/O Data Bytes  Number of subprocesses   \n",
       "ID                                                                            \n",
       "ID_L7RNFK5JC9            32.709430     1.211241e+05               30.407359  \\\n",
       "ID_KUTY5K1G5F             2.065990     2.029713e+03               29.000000   \n",
       "ID_H6PJWKU831           114.524684     3.888551e+03               28.000000   \n",
       "ID_DNQXNVTXHE            27.036810     5.581325e+03               25.000000   \n",
       "ID_8CRTF1BJOD             1.177267     1.766345e+02               28.000000   \n",
       "...                            ...              ...                     ...   \n",
       "ID_PAWIH292SB             7.290908     3.276107e+03               27.000000   \n",
       "ID_EMPXLFEHRN            12.336515     2.539813e+04               42.000000   \n",
       "ID_437MU86JLQ             4.754111     1.123303e+03               30.000000   \n",
       "ID_TMGB3DFDLX           271.668446     3.287590e+06               33.000000   \n",
       "ID_S2ZV4BHNN5             5.093725     1.108653e+03               25.000000   \n",
       "\n",
       "               Time on processor  Disk Reading/sec  Received Bytes (HTTP)   \n",
       "ID                                                                          \n",
       "ID_L7RNFK5JC9           0.496719          3.999064             737.338490  \\\n",
       "ID_KUTY5K1G5F           0.000000          3.665467              41.119875   \n",
       "ID_H6PJWKU831           0.486075          0.777719              11.332477   \n",
       "ID_DNQXNVTXHE           0.314968          1.789015              13.430214   \n",
       "ID_8CRTF1BJOD           0.000000          1.710369              57.508380   \n",
       "...                          ...               ...                    ...   \n",
       "ID_PAWIH292SB           0.034732          0.755765              60.416728   \n",
       "ID_EMPXLFEHRN           1.528201         17.115526           17492.334080   \n",
       "ID_437MU86JLQ           0.000000          1.932746              28.702390   \n",
       "ID_TMGB3DFDLX           9.429024         11.242224          107508.960100   \n",
       "ID_S2ZV4BHNN5           0.000000          0.511597              15.637068   \n",
       "\n",
       "               Network packets sent  Network packets received   \n",
       "ID                                                              \n",
       "ID_L7RNFK5JC9              1.844013                  1.910664  \\\n",
       "ID_KUTY5K1G5F              0.733093                  0.577589   \n",
       "ID_H6PJWKU831              0.177764                  0.133323   \n",
       "ID_DNQXNVTXHE              0.302369                  0.125987   \n",
       "ID_8CRTF1BJOD              0.888503                  0.777440   \n",
       "...                             ...                       ...   \n",
       "ID_PAWIH292SB              0.955820                  0.866907   \n",
       "ID_EMPXLFEHRN              8.535535                 17.737909   \n",
       "ID_437MU86JLQ              0.533171                  0.377663   \n",
       "ID_TMGB3DFDLX             18.371984                 81.623461   \n",
       "ID_S2ZV4BHNN5              0.177947                  0.066730   \n",
       "\n",
       "               Pages Input/sec  Page Errors/sec  Confirmed byte radius  \n",
       "ID                                                                      \n",
       "ID_L7RNFK5JC9              0.0       726.318848              20.008686  \n",
       "ID_KUTY5K1G5F              0.0       385.473839              33.015399  \n",
       "ID_H6PJWKU831              0.0       504.828540              30.091141  \n",
       "ID_DNQXNVTXHE              0.0       465.950312              22.211252  \n",
       "ID_8CRTF1BJOD              0.0       771.665166              31.032570  \n",
       "...                        ...              ...                    ...  \n",
       "ID_PAWIH292SB              0.0       332.647660              28.937109  \n",
       "ID_EMPXLFEHRN              0.0     15087.869440              28.098248  \n",
       "ID_437MU86JLQ              0.0       370.087546              31.630495  \n",
       "ID_TMGB3DFDLX              0.0      8097.574777              27.496611  \n",
       "ID_S2ZV4BHNN5              0.0       335.296100              20.610488  \n",
       "\n",
       "[3818 rows x 11 columns]"
      ]
     },
     "execution_count": 21,
     "metadata": {},
     "output_type": "execute_result"
    }
   ],
   "source": [
    "test"
   ]
  },
  {
   "cell_type": "code",
   "execution_count": 22,
   "metadata": {},
   "outputs": [],
   "source": [
    "first_test = test.copy()"
   ]
  },
  {
   "cell_type": "code",
   "execution_count": 23,
   "metadata": {},
   "outputs": [],
   "source": [
    "first_test[\"Target\"] = first_model.predict(first_test)"
   ]
  },
  {
   "cell_type": "code",
   "execution_count": 24,
   "metadata": {},
   "outputs": [],
   "source": [
    "submission1 = first_test[[\"Target\"]]"
   ]
  },
  {
   "cell_type": "code",
   "execution_count": 25,
   "metadata": {},
   "outputs": [
    {
     "data": {
      "text/html": [
       "<div>\n",
       "<style scoped>\n",
       "    .dataframe tbody tr th:only-of-type {\n",
       "        vertical-align: middle;\n",
       "    }\n",
       "\n",
       "    .dataframe tbody tr th {\n",
       "        vertical-align: top;\n",
       "    }\n",
       "\n",
       "    .dataframe thead th {\n",
       "        text-align: right;\n",
       "    }\n",
       "</style>\n",
       "<table border=\"1\" class=\"dataframe\">\n",
       "  <thead>\n",
       "    <tr style=\"text-align: right;\">\n",
       "      <th></th>\n",
       "      <th>Target</th>\n",
       "    </tr>\n",
       "    <tr>\n",
       "      <th>ID</th>\n",
       "      <th></th>\n",
       "    </tr>\n",
       "  </thead>\n",
       "  <tbody>\n",
       "    <tr>\n",
       "      <th>ID_L7RNFK5JC9</th>\n",
       "      <td>0</td>\n",
       "    </tr>\n",
       "    <tr>\n",
       "      <th>ID_KUTY5K1G5F</th>\n",
       "      <td>0</td>\n",
       "    </tr>\n",
       "    <tr>\n",
       "      <th>ID_H6PJWKU831</th>\n",
       "      <td>1</td>\n",
       "    </tr>\n",
       "    <tr>\n",
       "      <th>ID_DNQXNVTXHE</th>\n",
       "      <td>1</td>\n",
       "    </tr>\n",
       "    <tr>\n",
       "      <th>ID_8CRTF1BJOD</th>\n",
       "      <td>0</td>\n",
       "    </tr>\n",
       "    <tr>\n",
       "      <th>...</th>\n",
       "      <td>...</td>\n",
       "    </tr>\n",
       "    <tr>\n",
       "      <th>ID_PAWIH292SB</th>\n",
       "      <td>0</td>\n",
       "    </tr>\n",
       "    <tr>\n",
       "      <th>ID_EMPXLFEHRN</th>\n",
       "      <td>0</td>\n",
       "    </tr>\n",
       "    <tr>\n",
       "      <th>ID_437MU86JLQ</th>\n",
       "      <td>0</td>\n",
       "    </tr>\n",
       "    <tr>\n",
       "      <th>ID_TMGB3DFDLX</th>\n",
       "      <td>0</td>\n",
       "    </tr>\n",
       "    <tr>\n",
       "      <th>ID_S2ZV4BHNN5</th>\n",
       "      <td>1</td>\n",
       "    </tr>\n",
       "  </tbody>\n",
       "</table>\n",
       "<p>3818 rows × 1 columns</p>\n",
       "</div>"
      ],
      "text/plain": [
       "               Target\n",
       "ID                   \n",
       "ID_L7RNFK5JC9       0\n",
       "ID_KUTY5K1G5F       0\n",
       "ID_H6PJWKU831       1\n",
       "ID_DNQXNVTXHE       1\n",
       "ID_8CRTF1BJOD       0\n",
       "...               ...\n",
       "ID_PAWIH292SB       0\n",
       "ID_EMPXLFEHRN       0\n",
       "ID_437MU86JLQ       0\n",
       "ID_TMGB3DFDLX       0\n",
       "ID_S2ZV4BHNN5       1\n",
       "\n",
       "[3818 rows x 1 columns]"
      ]
     },
     "execution_count": 25,
     "metadata": {},
     "output_type": "execute_result"
    }
   ],
   "source": [
    "submission1"
   ]
  },
  {
   "cell_type": "code",
   "execution_count": 26,
   "metadata": {},
   "outputs": [],
   "source": [
    "submission1.to_csv('first_submission.csv')"
   ]
  },
  {
   "attachments": {},
   "cell_type": "markdown",
   "metadata": {},
   "source": [
    "Standardizing Test Data"
   ]
  },
  {
   "cell_type": "code",
   "execution_count": 27,
   "metadata": {},
   "outputs": [],
   "source": [
    "from sklearn.preprocessing import StandardScaler\n",
    "scaler = StandardScaler()"
   ]
  },
  {
   "cell_type": "code",
   "execution_count": 28,
   "metadata": {},
   "outputs": [],
   "source": [
    "# new_test['Target'] = first_model.predict(scaled_data)"
   ]
  },
  {
   "cell_type": "code",
   "execution_count": 29,
   "metadata": {},
   "outputs": [
    {
     "data": {
      "text/plain": [
       "Target\n",
       "0    2727\n",
       "1    1091\n",
       "Name: count, dtype: int64"
      ]
     },
     "execution_count": 29,
     "metadata": {},
     "output_type": "execute_result"
    }
   ],
   "source": [
    "submission1[\"Target\"].value_counts()"
   ]
  },
  {
   "cell_type": "code",
   "execution_count": 30,
   "metadata": {},
   "outputs": [],
   "source": [
    "second_test = test.copy()"
   ]
  },
  {
   "cell_type": "code",
   "execution_count": 31,
   "metadata": {},
   "outputs": [],
   "source": [
    "index = second_test.index"
   ]
  },
  {
   "cell_type": "code",
   "execution_count": 32,
   "metadata": {},
   "outputs": [],
   "source": [
    "test_values = second_test.values"
   ]
  },
  {
   "cell_type": "code",
   "execution_count": 33,
   "metadata": {},
   "outputs": [],
   "source": [
    "columns = second_test.columns"
   ]
  },
  {
   "cell_type": "code",
   "execution_count": 34,
   "metadata": {},
   "outputs": [],
   "source": [
    "from sklearn.preprocessing import StandardScaler\n",
    "scaler = StandardScaler()\n",
    "scaled_values = scaler.fit_transform(test_values)"
   ]
  },
  {
   "cell_type": "code",
   "execution_count": 35,
   "metadata": {},
   "outputs": [],
   "source": [
    "scaled_test= pd.DataFrame(scaled_values, columns = columns, index = index)"
   ]
  },
  {
   "cell_type": "code",
   "execution_count": 36,
   "metadata": {},
   "outputs": [],
   "source": [
    "second_test[\"Target\"] = first_model.predict(scaled_test)"
   ]
  },
  {
   "cell_type": "code",
   "execution_count": 37,
   "metadata": {},
   "outputs": [],
   "source": [
    "submission2 = second_test[['Target']]"
   ]
  },
  {
   "cell_type": "code",
   "execution_count": 38,
   "metadata": {},
   "outputs": [
    {
     "data": {
      "text/plain": [
       "Target\n",
       "0    3805\n",
       "1      13\n",
       "Name: count, dtype: int64"
      ]
     },
     "execution_count": 38,
     "metadata": {},
     "output_type": "execute_result"
    }
   ],
   "source": [
    "submission2['Target'].value_counts()"
   ]
  },
  {
   "attachments": {},
   "cell_type": "markdown",
   "metadata": {},
   "source": [
    "Standardizing train and test for second model\n"
   ]
  },
  {
   "cell_type": "code",
   "execution_count": 39,
   "metadata": {},
   "outputs": [],
   "source": [
    "scaler2 = StandardScaler()\n",
    "scaler2.fit(X_train)\n",
    "scaled_x_train = scaler2.transform(X_train)\n",
    "scaled_x_test = scaler2.transform(X_test)"
   ]
  },
  {
   "cell_type": "code",
   "execution_count": 41,
   "metadata": {},
   "outputs": [
    {
     "name": "stderr",
     "output_type": "stream",
     "text": [
      "/Users/josephineamponsah/Documents/hackathon/.venv/lib/python3.9/site-packages/sklearn/model_selection/_validation.py:378: FitFailedWarning: \n",
      "10 fits failed out of a total of 25.\n",
      "The score on these train-test partitions for these parameters will be set to nan.\n",
      "If these failures are not expected, you can try to debug them by setting error_score='raise'.\n",
      "\n",
      "Below are more details about the failures:\n",
      "--------------------------------------------------------------------------------\n",
      "10 fits failed with the following error:\n",
      "Traceback (most recent call last):\n",
      "  File \"/Users/josephineamponsah/Documents/hackathon/.venv/lib/python3.9/site-packages/sklearn/model_selection/_validation.py\", line 686, in _fit_and_score\n",
      "    estimator.fit(X_train, y_train, **fit_params)\n",
      "  File \"/Users/josephineamponsah/Documents/hackathon/.venv/lib/python3.9/site-packages/sklearn/ensemble/_forest.py\", line 340, in fit\n",
      "    self._validate_params()\n",
      "  File \"/Users/josephineamponsah/Documents/hackathon/.venv/lib/python3.9/site-packages/sklearn/base.py\", line 600, in _validate_params\n",
      "    validate_parameter_constraints(\n",
      "  File \"/Users/josephineamponsah/Documents/hackathon/.venv/lib/python3.9/site-packages/sklearn/utils/_param_validation.py\", line 97, in validate_parameter_constraints\n",
      "    raise InvalidParameterError(\n",
      "sklearn.utils._param_validation.InvalidParameterError: The 'max_features' parameter of RandomForestClassifier must be an int in the range [1, inf), a float in the range (0.0, 1.0], a str among {'auto' (deprecated), 'log2', 'sqrt'} or None. Got 'None' instead.\n",
      "\n",
      "  warnings.warn(some_fits_failed_message, FitFailedWarning)\n",
      "/Users/josephineamponsah/Documents/hackathon/.venv/lib/python3.9/site-packages/sklearn/model_selection/_search.py:952: UserWarning: One or more of the test scores are non-finite: [       nan 0.97573027 0.85163566 0.84262998        nan]\n",
      "  warnings.warn(\n"
     ]
    }
   ],
   "source": [
    "second_search = rscv.fit(scaled_x_train, y_train)"
   ]
  },
  {
   "cell_type": "code",
   "execution_count": 42,
   "metadata": {},
   "outputs": [
    {
     "data": {
      "text/plain": [
       "{'bootstrap': True,\n",
       " 'criterion': 'entropy',\n",
       " 'max_depth': 15,\n",
       " 'max_features': 'sqrt',\n",
       " 'n_estimators': 81}"
      ]
     },
     "execution_count": 42,
     "metadata": {},
     "output_type": "execute_result"
    }
   ],
   "source": [
    "second_search.best_params_"
   ]
  },
  {
   "cell_type": "code",
   "execution_count": 47,
   "metadata": {},
   "outputs": [],
   "source": [
    "second_model = RandomForestClassifier(bootstrap=True, criterion='entropy',max_depth=15, max_features='sqrt',n_estimators=81)"
   ]
  },
  {
   "cell_type": "code",
   "execution_count": 48,
   "metadata": {},
   "outputs": [
    {
     "data": {
      "text/html": [
       "<style>#sk-container-id-3 {color: black;background-color: white;}#sk-container-id-3 pre{padding: 0;}#sk-container-id-3 div.sk-toggleable {background-color: white;}#sk-container-id-3 label.sk-toggleable__label {cursor: pointer;display: block;width: 100%;margin-bottom: 0;padding: 0.3em;box-sizing: border-box;text-align: center;}#sk-container-id-3 label.sk-toggleable__label-arrow:before {content: \"▸\";float: left;margin-right: 0.25em;color: #696969;}#sk-container-id-3 label.sk-toggleable__label-arrow:hover:before {color: black;}#sk-container-id-3 div.sk-estimator:hover label.sk-toggleable__label-arrow:before {color: black;}#sk-container-id-3 div.sk-toggleable__content {max-height: 0;max-width: 0;overflow: hidden;text-align: left;background-color: #f0f8ff;}#sk-container-id-3 div.sk-toggleable__content pre {margin: 0.2em;color: black;border-radius: 0.25em;background-color: #f0f8ff;}#sk-container-id-3 input.sk-toggleable__control:checked~div.sk-toggleable__content {max-height: 200px;max-width: 100%;overflow: auto;}#sk-container-id-3 input.sk-toggleable__control:checked~label.sk-toggleable__label-arrow:before {content: \"▾\";}#sk-container-id-3 div.sk-estimator input.sk-toggleable__control:checked~label.sk-toggleable__label {background-color: #d4ebff;}#sk-container-id-3 div.sk-label input.sk-toggleable__control:checked~label.sk-toggleable__label {background-color: #d4ebff;}#sk-container-id-3 input.sk-hidden--visually {border: 0;clip: rect(1px 1px 1px 1px);clip: rect(1px, 1px, 1px, 1px);height: 1px;margin: -1px;overflow: hidden;padding: 0;position: absolute;width: 1px;}#sk-container-id-3 div.sk-estimator {font-family: monospace;background-color: #f0f8ff;border: 1px dotted black;border-radius: 0.25em;box-sizing: border-box;margin-bottom: 0.5em;}#sk-container-id-3 div.sk-estimator:hover {background-color: #d4ebff;}#sk-container-id-3 div.sk-parallel-item::after {content: \"\";width: 100%;border-bottom: 1px solid gray;flex-grow: 1;}#sk-container-id-3 div.sk-label:hover label.sk-toggleable__label {background-color: #d4ebff;}#sk-container-id-3 div.sk-serial::before {content: \"\";position: absolute;border-left: 1px solid gray;box-sizing: border-box;top: 0;bottom: 0;left: 50%;z-index: 0;}#sk-container-id-3 div.sk-serial {display: flex;flex-direction: column;align-items: center;background-color: white;padding-right: 0.2em;padding-left: 0.2em;position: relative;}#sk-container-id-3 div.sk-item {position: relative;z-index: 1;}#sk-container-id-3 div.sk-parallel {display: flex;align-items: stretch;justify-content: center;background-color: white;position: relative;}#sk-container-id-3 div.sk-item::before, #sk-container-id-3 div.sk-parallel-item::before {content: \"\";position: absolute;border-left: 1px solid gray;box-sizing: border-box;top: 0;bottom: 0;left: 50%;z-index: -1;}#sk-container-id-3 div.sk-parallel-item {display: flex;flex-direction: column;z-index: 1;position: relative;background-color: white;}#sk-container-id-3 div.sk-parallel-item:first-child::after {align-self: flex-end;width: 50%;}#sk-container-id-3 div.sk-parallel-item:last-child::after {align-self: flex-start;width: 50%;}#sk-container-id-3 div.sk-parallel-item:only-child::after {width: 0;}#sk-container-id-3 div.sk-dashed-wrapped {border: 1px dashed gray;margin: 0 0.4em 0.5em 0.4em;box-sizing: border-box;padding-bottom: 0.4em;background-color: white;}#sk-container-id-3 div.sk-label label {font-family: monospace;font-weight: bold;display: inline-block;line-height: 1.2em;}#sk-container-id-3 div.sk-label-container {text-align: center;}#sk-container-id-3 div.sk-container {/* jupyter's `normalize.less` sets `[hidden] { display: none; }` but bootstrap.min.css set `[hidden] { display: none !important; }` so we also need the `!important` here to be able to override the default hidden behavior on the sphinx rendered scikit-learn.org. See: https://github.com/scikit-learn/scikit-learn/issues/21755 */display: inline-block !important;position: relative;}#sk-container-id-3 div.sk-text-repr-fallback {display: none;}</style><div id=\"sk-container-id-3\" class=\"sk-top-container\"><div class=\"sk-text-repr-fallback\"><pre>RandomForestClassifier(criterion=&#x27;entropy&#x27;, max_depth=15, n_estimators=81)</pre><b>In a Jupyter environment, please rerun this cell to show the HTML representation or trust the notebook. <br />On GitHub, the HTML representation is unable to render, please try loading this page with nbviewer.org.</b></div><div class=\"sk-container\" hidden><div class=\"sk-item\"><div class=\"sk-estimator sk-toggleable\"><input class=\"sk-toggleable__control sk-hidden--visually\" id=\"sk-estimator-id-5\" type=\"checkbox\" checked><label for=\"sk-estimator-id-5\" class=\"sk-toggleable__label sk-toggleable__label-arrow\">RandomForestClassifier</label><div class=\"sk-toggleable__content\"><pre>RandomForestClassifier(criterion=&#x27;entropy&#x27;, max_depth=15, n_estimators=81)</pre></div></div></div></div></div>"
      ],
      "text/plain": [
       "RandomForestClassifier(criterion='entropy', max_depth=15, n_estimators=81)"
      ]
     },
     "execution_count": 48,
     "metadata": {},
     "output_type": "execute_result"
    }
   ],
   "source": [
    "second_model.fit(scaled_x_train, y_train)"
   ]
  },
  {
   "cell_type": "code",
   "execution_count": 49,
   "metadata": {},
   "outputs": [],
   "source": [
    "second_test_output = second_model.predict(scaled_x_test)"
   ]
  },
  {
   "cell_type": "code",
   "execution_count": 50,
   "metadata": {},
   "outputs": [],
   "source": [
    "second_train_output = second_model.predict(scaled_x_train)"
   ]
  },
  {
   "cell_type": "code",
   "execution_count": 51,
   "metadata": {},
   "outputs": [
    {
     "data": {
      "text/html": [
       "<div>\n",
       "<style scoped>\n",
       "    .dataframe tbody tr th:only-of-type {\n",
       "        vertical-align: middle;\n",
       "    }\n",
       "\n",
       "    .dataframe tbody tr th {\n",
       "        vertical-align: top;\n",
       "    }\n",
       "\n",
       "    .dataframe thead th {\n",
       "        text-align: right;\n",
       "    }\n",
       "</style>\n",
       "<table border=\"1\" class=\"dataframe\">\n",
       "  <thead>\n",
       "    <tr style=\"text-align: right;\">\n",
       "      <th></th>\n",
       "      <th>score_name</th>\n",
       "      <th>value</th>\n",
       "    </tr>\n",
       "  </thead>\n",
       "  <tbody>\n",
       "    <tr>\n",
       "      <th>0</th>\n",
       "      <td>&lt;function f1_score at 0x1661f8280&gt;</td>\n",
       "      <td>0.977330</td>\n",
       "    </tr>\n",
       "    <tr>\n",
       "      <th>1</th>\n",
       "      <td>&lt;function precision_score at 0x1661f8670&gt;</td>\n",
       "      <td>0.967099</td>\n",
       "    </tr>\n",
       "    <tr>\n",
       "      <th>2</th>\n",
       "      <td>&lt;function recall_score at 0x1661f8700&gt;</td>\n",
       "      <td>0.987780</td>\n",
       "    </tr>\n",
       "    <tr>\n",
       "      <th>3</th>\n",
       "      <td>&lt;function accuracy_score at 0x1661eeee0&gt;</td>\n",
       "      <td>0.976941</td>\n",
       "    </tr>\n",
       "  </tbody>\n",
       "</table>\n",
       "</div>"
      ],
      "text/plain": [
       "                                  score_name     value\n",
       "0         <function f1_score at 0x1661f8280>  0.977330\n",
       "1  <function precision_score at 0x1661f8670>  0.967099\n",
       "2     <function recall_score at 0x1661f8700>  0.987780\n",
       "3   <function accuracy_score at 0x1661eeee0>  0.976941"
      ]
     },
     "execution_count": 51,
     "metadata": {},
     "output_type": "execute_result"
    }
   ],
   "source": [
    "#evaluating performance on test data\n",
    "eval_model(score_list, y_test, second_test_output)"
   ]
  },
  {
   "cell_type": "code",
   "execution_count": 53,
   "metadata": {},
   "outputs": [
    {
     "data": {
      "text/html": [
       "<div>\n",
       "<style scoped>\n",
       "    .dataframe tbody tr th:only-of-type {\n",
       "        vertical-align: middle;\n",
       "    }\n",
       "\n",
       "    .dataframe tbody tr th {\n",
       "        vertical-align: top;\n",
       "    }\n",
       "\n",
       "    .dataframe thead th {\n",
       "        text-align: right;\n",
       "    }\n",
       "</style>\n",
       "<table border=\"1\" class=\"dataframe\">\n",
       "  <thead>\n",
       "    <tr style=\"text-align: right;\">\n",
       "      <th></th>\n",
       "      <th>score_name</th>\n",
       "      <th>value</th>\n",
       "    </tr>\n",
       "  </thead>\n",
       "  <tbody>\n",
       "    <tr>\n",
       "      <th>0</th>\n",
       "      <td>&lt;function f1_score at 0x1661f8280&gt;</td>\n",
       "      <td>0.996705</td>\n",
       "    </tr>\n",
       "    <tr>\n",
       "      <th>1</th>\n",
       "      <td>&lt;function precision_score at 0x1661f8670&gt;</td>\n",
       "      <td>0.994302</td>\n",
       "    </tr>\n",
       "    <tr>\n",
       "      <th>2</th>\n",
       "      <td>&lt;function recall_score at 0x1661f8700&gt;</td>\n",
       "      <td>0.999119</td>\n",
       "    </tr>\n",
       "    <tr>\n",
       "      <th>3</th>\n",
       "      <td>&lt;function accuracy_score at 0x1661eeee0&gt;</td>\n",
       "      <td>0.996705</td>\n",
       "    </tr>\n",
       "  </tbody>\n",
       "</table>\n",
       "</div>"
      ],
      "text/plain": [
       "                                  score_name     value\n",
       "0         <function f1_score at 0x1661f8280>  0.996705\n",
       "1  <function precision_score at 0x1661f8670>  0.994302\n",
       "2     <function recall_score at 0x1661f8700>  0.999119\n",
       "3   <function accuracy_score at 0x1661eeee0>  0.996705"
      ]
     },
     "execution_count": 53,
     "metadata": {},
     "output_type": "execute_result"
    }
   ],
   "source": [
    "eval_model(score_list, y_train, second_train_output)"
   ]
  },
  {
   "cell_type": "code",
   "execution_count": 55,
   "metadata": {},
   "outputs": [],
   "source": [
    "third_test = second_test.drop('Target', axis = 1)"
   ]
  },
  {
   "cell_type": "code",
   "execution_count": 57,
   "metadata": {},
   "outputs": [
    {
     "data": {
      "text/html": [
       "<div>\n",
       "<style scoped>\n",
       "    .dataframe tbody tr th:only-of-type {\n",
       "        vertical-align: middle;\n",
       "    }\n",
       "\n",
       "    .dataframe tbody tr th {\n",
       "        vertical-align: top;\n",
       "    }\n",
       "\n",
       "    .dataframe thead th {\n",
       "        text-align: right;\n",
       "    }\n",
       "</style>\n",
       "<table border=\"1\" class=\"dataframe\">\n",
       "  <thead>\n",
       "    <tr style=\"text-align: right;\">\n",
       "      <th></th>\n",
       "      <th>I/O Data Operations</th>\n",
       "      <th>I/O Data Bytes</th>\n",
       "      <th>Number of subprocesses</th>\n",
       "      <th>Time on processor</th>\n",
       "      <th>Disk Reading/sec</th>\n",
       "      <th>Received Bytes (HTTP)</th>\n",
       "      <th>Network packets sent</th>\n",
       "      <th>Network packets received</th>\n",
       "      <th>Pages Input/sec</th>\n",
       "      <th>Page Errors/sec</th>\n",
       "      <th>Confirmed byte radius</th>\n",
       "    </tr>\n",
       "    <tr>\n",
       "      <th>ID</th>\n",
       "      <th></th>\n",
       "      <th></th>\n",
       "      <th></th>\n",
       "      <th></th>\n",
       "      <th></th>\n",
       "      <th></th>\n",
       "      <th></th>\n",
       "      <th></th>\n",
       "      <th></th>\n",
       "      <th></th>\n",
       "      <th></th>\n",
       "    </tr>\n",
       "  </thead>\n",
       "  <tbody>\n",
       "    <tr>\n",
       "      <th>ID_L7RNFK5JC9</th>\n",
       "      <td>-0.043571</td>\n",
       "      <td>0.033180</td>\n",
       "      <td>0.100542</td>\n",
       "      <td>0.018357</td>\n",
       "      <td>-0.087224</td>\n",
       "      <td>-0.231242</td>\n",
       "      <td>-0.176934</td>\n",
       "      <td>-0.224539</td>\n",
       "      <td>-0.04958</td>\n",
       "      <td>-0.424566</td>\n",
       "      <td>-2.151766</td>\n",
       "    </tr>\n",
       "    <tr>\n",
       "      <th>ID_KUTY5K1G5F</th>\n",
       "      <td>-0.529949</td>\n",
       "      <td>-0.228859</td>\n",
       "      <td>-0.148818</td>\n",
       "      <td>-0.324532</td>\n",
       "      <td>-0.109653</td>\n",
       "      <td>-0.244721</td>\n",
       "      <td>-0.269520</td>\n",
       "      <td>-0.261414</td>\n",
       "      <td>-0.04958</td>\n",
       "      <td>-0.497296</td>\n",
       "      <td>1.143548</td>\n",
       "    </tr>\n",
       "    <tr>\n",
       "      <th>ID_H6PJWKU831</th>\n",
       "      <td>1.255016</td>\n",
       "      <td>-0.224769</td>\n",
       "      <td>-0.326001</td>\n",
       "      <td>0.011009</td>\n",
       "      <td>-0.303799</td>\n",
       "      <td>-0.245298</td>\n",
       "      <td>-0.315802</td>\n",
       "      <td>-0.273703</td>\n",
       "      <td>-0.04958</td>\n",
       "      <td>-0.471828</td>\n",
       "      <td>0.402673</td>\n",
       "    </tr>\n",
       "    <tr>\n",
       "      <th>ID_DNQXNVTXHE</th>\n",
       "      <td>-0.133608</td>\n",
       "      <td>-0.221044</td>\n",
       "      <td>-0.857551</td>\n",
       "      <td>-0.107107</td>\n",
       "      <td>-0.235808</td>\n",
       "      <td>-0.245257</td>\n",
       "      <td>-0.305417</td>\n",
       "      <td>-0.273906</td>\n",
       "      <td>-0.04958</td>\n",
       "      <td>-0.480124</td>\n",
       "      <td>-1.593735</td>\n",
       "    </tr>\n",
       "    <tr>\n",
       "      <th>ID_8CRTF1BJOD</th>\n",
       "      <td>-0.544055</td>\n",
       "      <td>-0.232936</td>\n",
       "      <td>-0.326001</td>\n",
       "      <td>-0.324532</td>\n",
       "      <td>-0.241096</td>\n",
       "      <td>-0.244404</td>\n",
       "      <td>-0.256568</td>\n",
       "      <td>-0.255886</td>\n",
       "      <td>-0.04958</td>\n",
       "      <td>-0.414890</td>\n",
       "      <td>0.641188</td>\n",
       "    </tr>\n",
       "  </tbody>\n",
       "</table>\n",
       "</div>"
      ],
      "text/plain": [
       "               I/O Data Operations   I/O Data Bytes  Number of subprocesses   \n",
       "ID                                                                            \n",
       "ID_L7RNFK5JC9            -0.043571         0.033180                0.100542  \\\n",
       "ID_KUTY5K1G5F            -0.529949        -0.228859               -0.148818   \n",
       "ID_H6PJWKU831             1.255016        -0.224769               -0.326001   \n",
       "ID_DNQXNVTXHE            -0.133608        -0.221044               -0.857551   \n",
       "ID_8CRTF1BJOD            -0.544055        -0.232936               -0.326001   \n",
       "\n",
       "               Time on processor  Disk Reading/sec  Received Bytes (HTTP)   \n",
       "ID                                                                          \n",
       "ID_L7RNFK5JC9           0.018357         -0.087224              -0.231242  \\\n",
       "ID_KUTY5K1G5F          -0.324532         -0.109653              -0.244721   \n",
       "ID_H6PJWKU831           0.011009         -0.303799              -0.245298   \n",
       "ID_DNQXNVTXHE          -0.107107         -0.235808              -0.245257   \n",
       "ID_8CRTF1BJOD          -0.324532         -0.241096              -0.244404   \n",
       "\n",
       "               Network packets sent  Network packets received   \n",
       "ID                                                              \n",
       "ID_L7RNFK5JC9             -0.176934                 -0.224539  \\\n",
       "ID_KUTY5K1G5F             -0.269520                 -0.261414   \n",
       "ID_H6PJWKU831             -0.315802                 -0.273703   \n",
       "ID_DNQXNVTXHE             -0.305417                 -0.273906   \n",
       "ID_8CRTF1BJOD             -0.256568                 -0.255886   \n",
       "\n",
       "               Pages Input/sec  Page Errors/sec  Confirmed byte radius  \n",
       "ID                                                                      \n",
       "ID_L7RNFK5JC9         -0.04958        -0.424566              -2.151766  \n",
       "ID_KUTY5K1G5F         -0.04958        -0.497296               1.143548  \n",
       "ID_H6PJWKU831         -0.04958        -0.471828               0.402673  \n",
       "ID_DNQXNVTXHE         -0.04958        -0.480124              -1.593735  \n",
       "ID_8CRTF1BJOD         -0.04958        -0.414890               0.641188  "
      ]
     },
     "execution_count": 57,
     "metadata": {},
     "output_type": "execute_result"
    }
   ],
   "source": [
    "scaled_test.head()"
   ]
  },
  {
   "cell_type": "code",
   "execution_count": 58,
   "metadata": {},
   "outputs": [],
   "source": [
    "third_test = scaled_test.copy()"
   ]
  },
  {
   "cell_type": "code",
   "execution_count": 59,
   "metadata": {},
   "outputs": [
    {
     "name": "stderr",
     "output_type": "stream",
     "text": [
      "/Users/josephineamponsah/Documents/hackathon/.venv/lib/python3.9/site-packages/sklearn/base.py:432: UserWarning: X has feature names, but RandomForestClassifier was fitted without feature names\n",
      "  warnings.warn(\n"
     ]
    }
   ],
   "source": [
    "third_test['Target'] = second_model.predict(third_test)"
   ]
  },
  {
   "cell_type": "code",
   "execution_count": 60,
   "metadata": {},
   "outputs": [
    {
     "data": {
      "text/plain": [
       "Target\n",
       "0    2928\n",
       "1     890\n",
       "Name: count, dtype: int64"
      ]
     },
     "execution_count": 60,
     "metadata": {},
     "output_type": "execute_result"
    }
   ],
   "source": [
    "third_test['Target'].value_counts()"
   ]
  },
  {
   "cell_type": "code",
   "execution_count": 61,
   "metadata": {},
   "outputs": [],
   "source": [
    "submission2 = third_test[['Target']]"
   ]
  },
  {
   "cell_type": "code",
   "execution_count": 63,
   "metadata": {},
   "outputs": [],
   "source": [
    "submission2.to_csv('second_submission.csv')"
   ]
  },
  {
   "cell_type": "code",
   "execution_count": null,
   "metadata": {},
   "outputs": [],
   "source": []
  }
 ],
 "metadata": {
  "kernelspec": {
   "display_name": ".venv",
   "language": "python",
   "name": "python3"
  },
  "language_info": {
   "codemirror_mode": {
    "name": "ipython",
    "version": 3
   },
   "file_extension": ".py",
   "mimetype": "text/x-python",
   "name": "python",
   "nbconvert_exporter": "python",
   "pygments_lexer": "ipython3",
   "version": "3.9.13"
  },
  "orig_nbformat": 4
 },
 "nbformat": 4,
 "nbformat_minor": 2
}
